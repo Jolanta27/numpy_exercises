{
  "cells": [
    {
      "cell_type": "markdown",
      "metadata": {
        "id": "view-in-github",
        "colab_type": "text"
      },
      "source": [
        "<a href=\"https://colab.research.google.com/github/Jolanta27/numpy_exercises/blob/master/Time_to_Practice__Numpy_1_with_partial_solutions.ipynb\" target=\"_parent\"><img src=\"https://colab.research.google.com/assets/colab-badge.svg\" alt=\"Open In Colab\"/></a>"
      ]
    },
    {
      "cell_type": "markdown",
      "metadata": {
        "id": "-XWt3nPFhENg"
      },
      "source": [
        "<img height=\"180px\" src=\"https://drive.google.com/uc?export=view&id=141XOz6N4nk8Ru1sAl7vOsAToCLrSFCAX\" alt=\"SDA logo\" align=\"left\" hspace=\"30px\" vspace=\"50px\"/>\n",
        "\n",
        "# Welcome to your next notebook with SDA!\n",
        "\n",
        "During the classes we will mostly use [Google Colaboratory](https://colab.research.google.com/?hl=en) which is a free Jupyter notebook environment that requires no setup and runs entirely in the cloud.\n",
        "\n",
        "However, for bigger projects, especially involving Deep Learning and/or big data reading, it might be a better choice to setup Jupyter Notebook or Jupyter Lab on your computer. Also, it is worth noticing that there is a great number of useful extensions (see [nbextensions](https://jupyter-contrib-nbextensions.readthedocs.io/en/latest/index.html) and [jupyter-labextension](https://jupyterlab.readthedocs.io/en/stable/user/extensions.html)) not available for Colab users."
      ]
    },
    {
      "cell_type": "markdown",
      "metadata": {
        "id": "_pi_0qQeiZ-0"
      },
      "source": [
        "<img src=\"https://drive.google.com/uc?export=view&id=1UO2urRciECzoKE_vHy4RMGfFbkOWOGlW\" alt=\"SDA logo\" align=\"left\" width=\"100px\" hspace=\"10px\" vspace=\"10px\"/>\n",
        "<br>\n",
        "\n",
        "# TASKS"
      ]
    },
    {
      "cell_type": "markdown",
      "metadata": {
        "id": "rzZ3BUSfijKe"
      },
      "source": [
        "<img src=\"https://drive.google.com/uc?export=view&id=141XOz6N4nk8Ru1sAl7vOsAToCLrSFCAX\" alt=\"SDA logo\" width=\"150\" align='right'/>\n",
        "<br>\n",
        "\n",
        "## Linear Algebra"
      ]
    },
    {
      "cell_type": "markdown",
      "metadata": {
        "id": "2SAWPPl8ipUl"
      },
      "source": [
        "### **<font color='#306998'>TASKS </font><font color='#ffd33b'>1.1 - 1.10</font>** should be already completed :)"
      ]
    },
    {
      "cell_type": "markdown",
      "metadata": {
        "id": "FquByg7fjLiz"
      },
      "source": [
        "### **<font color='#306998'>TASK </font><font color='#ffd33b'>1.11</font>**\n",
        "\n",
        "For the matrix from task 1.7:\n",
        "* calculate its determinant, (optional)\n",
        "* calculate its trace (the sum of elements on the main diagonal),\n",
        "* find the largest and smallest item.\n",
        "\n",
        "$$\n",
        "A=\n",
        "\\begin{bmatrix}\n",
        "1 & 2 & 3 & 4 \\\\\n",
        "5 & 6 & 7 & 8 \\\\\n",
        "9 & 10 & 11 & 12 \\\\\n",
        "13 & 14 & 15 & 16\n",
        "\\end{bmatrix}\n",
        "$$"
      ]
    },
    {
      "cell_type": "code",
      "execution_count": 3,
      "metadata": {
        "id": "-J54TJx52f_7"
      },
      "outputs": [],
      "source": [
        "import numpy as np"
      ]
    },
    {
      "cell_type": "code",
      "execution_count": 4,
      "metadata": {
        "colab": {
          "base_uri": "https://localhost:8080/"
        },
        "id": "k3ulJv-E4RI_",
        "outputId": "c403711d-a0f1-401c-b2df-95d02d6aa8ae"
      },
      "outputs": [
        {
          "output_type": "execute_result",
          "data": {
            "text/plain": [
              "array([[ 1,  2,  3,  4],\n",
              "       [ 5,  6,  7,  8],\n",
              "       [ 9, 10, 11, 12],\n",
              "       [13, 14, 15, 16]])"
            ]
          },
          "metadata": {},
          "execution_count": 4
        }
      ],
      "source": [
        "A = np.arange(1, 17).reshape(4, 4)\n",
        "A"
      ]
    },
    {
      "cell_type": "code",
      "execution_count": 5,
      "metadata": {
        "colab": {
          "base_uri": "https://localhost:8080/"
        },
        "id": "wxD3Gwq04UPF",
        "outputId": "1d12b9b3-ad3a-494f-ad17-a8cc2aa10138"
      },
      "outputs": [
        {
          "output_type": "execute_result",
          "data": {
            "text/plain": [
              "(34, 34)"
            ]
          },
          "metadata": {},
          "execution_count": 5
        }
      ],
      "source": [
        "A.trace(), A.diagonal().sum()"
      ]
    },
    {
      "cell_type": "code",
      "execution_count": 6,
      "metadata": {
        "colab": {
          "base_uri": "https://localhost:8080/"
        },
        "id": "zr2CA9WI4uH_",
        "outputId": "c2192fcc-cb60-4630-9ff9-88cc094aa041"
      },
      "outputs": [
        {
          "output_type": "execute_result",
          "data": {
            "text/plain": [
              "(16, 1)"
            ]
          },
          "metadata": {},
          "execution_count": 6
        }
      ],
      "source": [
        "A.max(), A.min()"
      ]
    },
    {
      "cell_type": "markdown",
      "metadata": {
        "id": "V-TQENnFx1cd"
      },
      "source": [
        "### **<font color='#306998'>TASK </font><font color='#ffd33b'>1.12</font>**\n",
        "\n",
        "Define two `3x3` real matrices, ie. whose elements consist entirely of real numbers. For the first matrix, draw the numbers from standard normal (Gaussian) distribution, ie. $\\mu = 0$ and $\\sigma = 1$. For the second one, set the standard devation to 1 and mean value to 5.\n",
        "\n",
        "Next, for each of them:\n",
        "* multiply all elements by a scalar 10,\n",
        "* extract the element in the middle,\n",
        "* transpose them\n",
        "* get its trace & sum of all elements\n",
        "\n",
        "and calculate their:\n",
        "* sum\n",
        "* difference\n",
        "* element-wise multiplication result\n",
        "* element-wise division result\n",
        "* matrix product (matrix multiplication)"
      ]
    },
    {
      "cell_type": "code",
      "execution_count": 22,
      "metadata": {
        "colab": {
          "base_uri": "https://localhost:8080/"
        },
        "id": "dF1sfAbh2l8G",
        "outputId": "4f4a443b-fe09-4639-ce1c-1d084ffb6fd7"
      },
      "outputs": [
        {
          "output_type": "stream",
          "name": "stdout",
          "text": [
            "[[ 1.24308302 -0.94673477  1.28538196]\n",
            " [ 0.10795782 -0.51829729 -1.16129897]\n",
            " [ 0.14848363  0.55950117 -0.17466449]]\n",
            "[[ 1.24308302 -0.94673477  1.28538196]\n",
            " [ 0.10795782 -0.51829729 -1.16129897]\n",
            " [ 0.14848363  0.55950117 -0.17466449]]\n",
            "[[ 1.24308302 -0.94673477  1.28538196]\n",
            " [ 0.10795782 -0.51829729 -1.16129897]\n",
            " [ 0.14848363  0.55950117 -0.17466449]]\n",
            "-0.518297292603109\n",
            "[[ 1.24308302 -0.94673477  1.28538196]\n",
            " [ 0.10795782 -0.51829729 -1.16129897]\n",
            " [ 0.14848363  0.55950117 -0.17466449]]\n",
            "[[ 1.24308302  0.10795782  0.14848363]\n",
            " [-0.94673477 -0.51829729  0.55950117]\n",
            " [ 1.28538196 -1.16129897 -0.17466449]]\n",
            "0.5501212363569972\n"
          ]
        }
      ],
      "source": [
        "A = np.random.normal(size=9).reshape(3, 3)\n",
        "print(A)\n",
        "A = A.reshape(3, -1)\n",
        "print(A)\n",
        "A * 10\n",
        "print(A)\n",
        "B = A[1,1]\n",
        "print(B)\n",
        "print(A)\n",
        "C = A.T\n",
        "print(C)\n",
        "D = A.trace()\n",
        "print(D)"
      ]
    },
    {
      "cell_type": "code",
      "source": [
        "A = np.random.normal(size=9)\n",
        "A"
      ],
      "metadata": {
        "colab": {
          "base_uri": "https://localhost:8080/"
        },
        "id": "xIsJXcOEEXEC",
        "outputId": "8cf3fd8d-47b4-40e0-aa03-5fe30501d838"
      },
      "execution_count": 8,
      "outputs": [
        {
          "output_type": "execute_result",
          "data": {
            "text/plain": [
              "array([-1.33933051, -0.76244196, -0.93163352, -0.69863876,  1.45119433,\n",
              "        1.84378929, -1.93789777, -0.60000051,  0.83006185])"
            ]
          },
          "metadata": {},
          "execution_count": 8
        }
      ]
    },
    {
      "cell_type": "code",
      "execution_count": 10,
      "metadata": {
        "colab": {
          "base_uri": "https://localhost:8080/"
        },
        "id": "JmCH18Z85X6a",
        "outputId": "294d6d85-2369-44c3-e88d-d3a6b0e1da77"
      },
      "outputs": [
        {
          "output_type": "execute_result",
          "data": {
            "text/plain": [
              "array([[4.76877661, 3.52198689, 4.61132691],\n",
              "       [4.04505086, 6.24397212, 5.27425961],\n",
              "       [5.98843567, 4.1704498 , 3.22828954]])"
            ]
          },
          "metadata": {},
          "execution_count": 10
        }
      ],
      "source": [
        "B = np.random.normal(loc=5, scale=1, size=9).reshape(3, 3)\n",
        "B"
      ]
    },
    {
      "cell_type": "code",
      "execution_count": 11,
      "metadata": {
        "colab": {
          "base_uri": "https://localhost:8080/"
        },
        "id": "vTpONIND5j27",
        "outputId": "a6ce798b-bde1-48e7-a6d8-c48140f04ca7"
      },
      "outputs": [
        {
          "output_type": "execute_result",
          "data": {
            "text/plain": [
              "array([[ 13.31719301,   1.97054974,   0.45174793],\n",
              "       [ -6.50659387,  15.22028456, -11.00112056],\n",
              "       [ -3.87119024,  -7.65421183,  -1.45804753]])"
            ]
          },
          "metadata": {},
          "execution_count": 11
        }
      ],
      "source": [
        "A * 10"
      ]
    },
    {
      "cell_type": "code",
      "execution_count": null,
      "metadata": {
        "colab": {
          "base_uri": "https://localhost:8080/"
        },
        "id": "q91gU4iI5mBx",
        "outputId": "1fde74b7-b5fa-4714-dc59-6349da95828c"
      },
      "outputs": [
        {
          "data": {
            "text/plain": [
              "-0.6504013241436976"
            ]
          },
          "execution_count": 15,
          "metadata": {},
          "output_type": "execute_result"
        }
      ],
      "source": [
        "A[1, 1]"
      ]
    },
    {
      "cell_type": "code",
      "execution_count": 24,
      "metadata": {
        "colab": {
          "base_uri": "https://localhost:8080/"
        },
        "id": "HE2fGZUs5pEx",
        "outputId": "ed6f92ef-e105-4c74-c146-4f1d60283577"
      },
      "outputs": [
        {
          "output_type": "execute_result",
          "data": {
            "text/plain": [
              "array([[ 1.24308302,  0.10795782,  0.14848363],\n",
              "       [-0.94673477, -0.51829729,  0.55950117],\n",
              "       [ 1.28538196, -1.16129897, -0.17466449]])"
            ]
          },
          "metadata": {},
          "execution_count": 24
        }
      ],
      "source": [
        "A.T"
      ]
    },
    {
      "cell_type": "code",
      "execution_count": 23,
      "metadata": {
        "colab": {
          "base_uri": "https://localhost:8080/"
        },
        "id": "qBvm2h3l5qR4",
        "outputId": "363cb81b-727e-4622-b0ec-9dcdd17ee6c5"
      },
      "outputs": [
        {
          "output_type": "execute_result",
          "data": {
            "text/plain": [
              "0.5501212363569972"
            ]
          },
          "metadata": {},
          "execution_count": 23
        }
      ],
      "source": [
        "A.trace()"
      ]
    },
    {
      "cell_type": "code",
      "source": [
        "A.min()"
      ],
      "metadata": {
        "colab": {
          "base_uri": "https://localhost:8080/"
        },
        "id": "OZityNjwJSwL",
        "outputId": "cacdb3ee-bcba-4648-ebdc-80f62f89f2b1"
      },
      "execution_count": 33,
      "outputs": [
        {
          "output_type": "execute_result",
          "data": {
            "text/plain": [
              "-1.1612989733680907"
            ]
          },
          "metadata": {},
          "execution_count": 33
        }
      ]
    },
    {
      "cell_type": "code",
      "source": [
        "A.max()"
      ],
      "metadata": {
        "colab": {
          "base_uri": "https://localhost:8080/"
        },
        "id": "QC8lAgPtJVRN",
        "outputId": "4841f421-14de-4c26-d170-54a275e71833"
      },
      "execution_count": 34,
      "outputs": [
        {
          "output_type": "execute_result",
          "data": {
            "text/plain": [
              "1.2853819648195486"
            ]
          },
          "metadata": {},
          "execution_count": 34
        }
      ]
    },
    {
      "cell_type": "code",
      "source": [
        "B = np.random.normal(loc=5, scale=1, size=(3,3))\n",
        "print(B)"
      ],
      "metadata": {
        "colab": {
          "base_uri": "https://localhost:8080/"
        },
        "id": "xOkkjNMwJaAi",
        "outputId": "09157ac8-7867-48c8-825a-79de48b1d9d9"
      },
      "execution_count": 37,
      "outputs": [
        {
          "output_type": "stream",
          "name": "stdout",
          "text": [
            "[[5.21645568 4.50934587 4.41099422]\n",
            " [5.6294908  5.50402292 5.48931687]\n",
            " [7.21029692 6.48292646 5.19089301]]\n"
          ]
        }
      ]
    },
    {
      "cell_type": "code",
      "source": [
        "A@B"
      ],
      "metadata": {
        "colab": {
          "base_uri": "https://localhost:8080/"
        },
        "id": "NlcuFfbHLTxp",
        "outputId": "0f7144af-f26f-4997-c77a-3de0e119aa48"
      },
      "execution_count": 38,
      "outputs": [
        {
          "output_type": "execute_result",
          "data": {
            "text/plain": [
              "array([[ 10.4228384 ,   8.72767815,   6.95858511],\n",
              "       [-10.72790307,  -9.89451688,  -8.39707548],\n",
              "       [  2.66488215,   2.61673428,   2.81957499]])"
            ]
          },
          "metadata": {},
          "execution_count": 38
        }
      ]
    },
    {
      "cell_type": "code",
      "execution_count": 27,
      "metadata": {
        "colab": {
          "base_uri": "https://localhost:8080/"
        },
        "id": "Qd0mGOiz5tge",
        "outputId": "399b0bf2-e6b0-478d-fc3d-376f9eb391d1"
      },
      "outputs": [
        {
          "output_type": "execute_result",
          "data": {
            "text/plain": [
              "0.5434120774206814"
            ]
          },
          "metadata": {},
          "execution_count": 27
        }
      ],
      "source": [
        "A.sum()"
      ]
    },
    {
      "cell_type": "code",
      "execution_count": 28,
      "metadata": {
        "colab": {
          "base_uri": "https://localhost:8080/"
        },
        "id": "V2HZoq5n5uVf",
        "outputId": "9a4e079f-ca4c-420d-a46c-22acfde3f804"
      },
      "outputs": [
        {
          "output_type": "execute_result",
          "data": {
            "text/plain": [
              "array([[ 0.72478573, -1.46503206,  0.76708467],\n",
              "       [-0.41033947, -1.03659459, -1.67959627],\n",
              "       [-0.36981367,  0.04120388, -0.69296178]])"
            ]
          },
          "metadata": {},
          "execution_count": 28
        }
      ],
      "source": [
        "A + B"
      ]
    },
    {
      "cell_type": "code",
      "execution_count": 29,
      "metadata": {
        "colab": {
          "base_uri": "https://localhost:8080/"
        },
        "id": "TO0pM28e5wSt",
        "outputId": "0eb57402-f506-405b-c619-6f106a6ace49"
      },
      "outputs": [
        {
          "output_type": "execute_result",
          "data": {
            "text/plain": [
              "array([[ 1.76138031, -0.42843748,  1.80367926],\n",
              "       [ 0.62625511,  0.        , -0.64300168],\n",
              "       [ 0.66678092,  1.07779847,  0.3436328 ]])"
            ]
          },
          "metadata": {},
          "execution_count": 29
        }
      ],
      "source": [
        "A - B"
      ]
    },
    {
      "cell_type": "code",
      "execution_count": 30,
      "metadata": {
        "colab": {
          "base_uri": "https://localhost:8080/"
        },
        "id": "6keM4U535yGg",
        "outputId": "5a210530-d7cd-4a64-c3ba-55aa99ac89ad"
      },
      "outputs": [
        {
          "output_type": "execute_result",
          "data": {
            "text/plain": [
              "array([[-0.64428656,  0.49069007, -0.66620999],\n",
              "       [-0.05595425,  0.26863208,  0.60189811],\n",
              "       [-0.07695866, -0.28998794,  0.09052813]])"
            ]
          },
          "metadata": {},
          "execution_count": 30
        }
      ],
      "source": [
        "A * B"
      ]
    },
    {
      "cell_type": "code",
      "execution_count": 31,
      "metadata": {
        "colab": {
          "base_uri": "https://localhost:8080/"
        },
        "id": "Zx6ZPNNO51Ja",
        "outputId": "1f122787-b91f-4136-bc2b-3bc026c3fcd8"
      },
      "outputs": [
        {
          "output_type": "execute_result",
          "data": {
            "text/plain": [
              "array([[-2.39839767,  1.82662496, -2.48000903],\n",
              "       [-0.20829323,  1.        ,  2.24060397],\n",
              "       [-0.28648351, -1.07949855,  0.33699672]])"
            ]
          },
          "metadata": {},
          "execution_count": 31
        }
      ],
      "source": [
        "A / B"
      ]
    },
    {
      "cell_type": "code",
      "execution_count": 39,
      "metadata": {
        "colab": {
          "base_uri": "https://localhost:8080/"
        },
        "id": "K_DoPwZy52-C",
        "outputId": "365ca02a-66d3-4740-9c2c-83d4eb202d6f"
      },
      "outputs": [
        {
          "output_type": "execute_result",
          "data": {
            "text/plain": [
              "array([[ 10.4228384 ,   8.72767815,   6.95858511],\n",
              "       [-10.72790307,  -9.89451688,  -8.39707548],\n",
              "       [  2.66488215,   2.61673428,   2.81957499]])"
            ]
          },
          "metadata": {},
          "execution_count": 39
        }
      ],
      "source": [
        "np.matmul(A, B)"
      ]
    },
    {
      "cell_type": "markdown",
      "metadata": {
        "id": "b_LyBRSk53CY"
      },
      "source": [
        "### **<font color='#306998'>TASK </font><font color='#ffd33b'>1.14</font>**\n",
        "\n",
        "Create an array with the following elements: `[23, 45, 124, 112, 150, 43, 25, 17, 268, 254, 95, 97, 8]` and filter out the ones that are less than or equal to their mean value. How many such numbers are there?"
      ]
    },
    {
      "cell_type": "code",
      "execution_count": null,
      "metadata": {
        "colab": {
          "base_uri": "https://localhost:8080/"
        },
        "id": "D2lVNEsk2puf",
        "outputId": "9f47d759-e1d8-4b79-e0ed-0420adba5543"
      },
      "outputs": [
        {
          "data": {
            "text/plain": [
              "array([ 23,  45, 124, 112, 150,  43,  25,  17, 268, 254,  95,  97,   8])"
            ]
          },
          "execution_count": 25,
          "metadata": {},
          "output_type": "execute_result"
        }
      ],
      "source": [
        "array = np.array([23, 45, 124, 112, 150, 43, 25, 17, 268, 254, 95, 97, 8])\n",
        "array"
      ]
    },
    {
      "cell_type": "code",
      "execution_count": null,
      "metadata": {
        "colab": {
          "base_uri": "https://localhost:8080/"
        },
        "id": "oVPgFhFV6BUv",
        "outputId": "c76fb51d-5939-4816-8010-efb3e39e9b14"
      },
      "outputs": [
        {
          "data": {
            "text/plain": [
              "array([23, 45, 43, 25, 17, 95, 97,  8])"
            ]
          },
          "execution_count": 28,
          "metadata": {},
          "output_type": "execute_result"
        }
      ],
      "source": [
        "array[array <= array.mean()]"
      ]
    },
    {
      "cell_type": "code",
      "execution_count": null,
      "metadata": {
        "colab": {
          "base_uri": "https://localhost:8080/"
        },
        "id": "ZrUDOS-I6NOs",
        "outputId": "52fd8109-dc39-4daa-f5e7-645304f05331"
      },
      "outputs": [
        {
          "data": {
            "text/plain": [
              "8"
            ]
          },
          "execution_count": 29,
          "metadata": {},
          "output_type": "execute_result"
        }
      ],
      "source": [
        "len(array[array <= array.mean()])"
      ]
    },
    {
      "cell_type": "markdown",
      "metadata": {
        "id": "q4d0Tjig6Yae"
      },
      "source": [
        "### **<font color='#306998'>TASK </font><font color='#ffd33b'>1.15</font>**\n",
        "\n",
        "Use the array defined above to evaluate mean value and standard deviation. Check how many of these numbers is within a distance of at most one standard deviation from the mean, ie. belongs to the closed interval `[mean - std, mean + std]`."
      ]
    },
    {
      "cell_type": "code",
      "execution_count": null,
      "metadata": {
        "colab": {
          "base_uri": "https://localhost:8080/"
        },
        "id": "s4W-nXMa2qvy",
        "outputId": "4c839155-50b4-427b-ced2-b07f899968c7"
      },
      "outputs": [
        {
          "data": {
            "text/plain": [
              "10"
            ]
          },
          "execution_count": 35,
          "metadata": {},
          "output_type": "execute_result"
        }
      ],
      "source": [
        "lower_limit = array.mean() - array.std()\n",
        "upper_limit = array.mean() + array.std()\n",
        "\n",
        "np.sum((array > lower_limit) & (array < upper_limit))\n",
        "\n",
        "# to see which values belong to the interval\n",
        "# array[(array > lower_limit) & (array < upper_limit)]\n",
        "# len(...)"
      ]
    },
    {
      "cell_type": "code",
      "source": [
        "array = np.array([23, 45, 43, 25, 17, 95, 97, 8])\n",
        "print(array)\n",
        "mean = np.mean(array)\n",
        "print(mean)\n",
        "std = np.std(array)\n",
        "print(std)\n",
        "within_one_std = np.sum((array >= mean - std) & (array <= mean + std))\n",
        "print(within_one_std)"
      ],
      "metadata": {
        "colab": {
          "base_uri": "https://localhost:8080/"
        },
        "id": "F_77J3tIP2z3",
        "outputId": "d7b5eef9-dd3b-4176-9c95-ac3487ebca08"
      },
      "execution_count": 52,
      "outputs": [
        {
          "output_type": "stream",
          "name": "stdout",
          "text": [
            "[23 45 43 25 17 95 97  8]\n",
            "44.125\n",
            "32.091422140503525\n",
            "5\n"
          ]
        }
      ]
    },
    {
      "cell_type": "code",
      "execution_count": null,
      "metadata": {
        "colab": {
          "base_uri": "https://localhost:8080/"
        },
        "outputId": "c76fb51d-5939-4816-8010-efb3e39e9b14",
        "id": "pp3YTtoTQHrB"
      },
      "outputs": [
        {
          "data": {
            "text/plain": [
              "array([23, 45, 43, 25, 17, 95, 97,  8])"
            ]
          },
          "execution_count": 28,
          "metadata": {},
          "output_type": "execute_result"
        }
      ],
      "source": [
        "array[array <= array.mean()]"
      ]
    },
    {
      "cell_type": "markdown",
      "metadata": {
        "id": "xt2tc1W2694T"
      },
      "source": [
        "### **<font color='#306998'>TASK </font><font color='#ffd33b'>1.16</font>**\n",
        "\n",
        "Write a function `get_sum_of_squared_naturals()` that takes one argument as an input (call it `max_value`) and returns the sum of squared natural numbers `k` such that $k \\leq max\\_value.$\n",
        "\n",
        "Make sure that the input given by a user is a natural number. Set the default value to 5."
      ]
    },
    {
      "cell_type": "code",
      "execution_count": 53,
      "metadata": {
        "colab": {
          "base_uri": "https://localhost:8080/"
        },
        "id": "aeJipI3c2sa2",
        "outputId": "747c5abe-ef41-407c-893b-f76bb7eae062"
      },
      "outputs": [
        {
          "output_type": "execute_result",
          "data": {
            "text/plain": [
              "55"
            ]
          },
          "metadata": {},
          "execution_count": 53
        }
      ],
      "source": [
        "def get_sum_of_squared_naturals(max_value=5):\n",
        "    assert isinstance(max_value, int), \"Input is not an integer\"\n",
        "    assert max_value >= 0, \"Input is not a positive number\"\n",
        "\n",
        "    return np.sum(np.arange(max_value + 1) ** 2)\n",
        "\n",
        "\n",
        "get_sum_of_squared_naturals()\n",
        "# get_sum_of_squared_naturals(3)\n",
        "# get_sum_of_squared_naturals(5.4)\n",
        "# get_sum_of_squared_naturals(-1)"
      ]
    },
    {
      "cell_type": "code",
      "source": [
        "def get_sum_of_squared_naturals(max_value=5):\n",
        "  if not isinstance(max_value, int) or max_value < 1:\n",
        "    raise ValueError(\"max_value must be a natural number\")\n",
        "\n",
        "    naturals = np.arange(1, max_value + 1)\n",
        "    sum_of_squares = np.sum(naturals**2)\n",
        "    return sum_of_squares\n",
        "print(get_sum_of_squared_naturals(max_value=5))"
      ],
      "metadata": {
        "colab": {
          "base_uri": "https://localhost:8080/"
        },
        "id": "GKDf5JKtRxgc",
        "outputId": "e29d13d8-d6d2-48a3-d163-e5aff5525c0e"
      },
      "execution_count": 71,
      "outputs": [
        {
          "output_type": "stream",
          "name": "stdout",
          "text": [
            "None\n"
          ]
        }
      ]
    },
    {
      "cell_type": "markdown",
      "metadata": {
        "id": "gumAcno1Ks93"
      },
      "source": [
        "### **<font color='#306998'>TASK </font><font color='#ffd33b'>1.17</font>**\n",
        "\n",
        "Create the following 4x4 matrix 4x4, and then:\n",
        "* print out an element from the second row and the third column (starting from 1),\n",
        "* check which element is equal to 0,\n",
        "* with array indexing:\n",
        "    * display element equal to 3,\n",
        "    * view vector `[3, 11, 0]`,\n",
        "* calculate its:\n",
        "    * determinant,\n",
        "    * trace (sum of diagonal entries),\n",
        "    * the maximum and mininum elements,\n",
        "    * the mean value of each column,\n",
        "    * the maximum value of each row,\n",
        "* find its transposition and multiply both matrices mathematically, ie. get the product of $A \\cdot A^T,$\n",
        "* determine its eigenvalues and eigenvectors. (optional)\n",
        "\n",
        "```\n",
        "np.array([\n",
        "    [1, 15, 4, 13],\n",
        "    [8, 21, 3, 12],\n",
        "    [11, 13, 11, 5],\n",
        "    [32, 13, 0, 2]\n",
        "])\n",
        "```"
      ]
    },
    {
      "cell_type": "code",
      "execution_count": null,
      "metadata": {
        "id": "VCE_5vg22toW"
      },
      "outputs": [],
      "source": [
        "A = np.array([\n",
        "    [1, 15, 4, 13],\n",
        "    [8, 21, 3, 12],\n",
        "    [11, 13, 11, 5],\n",
        "    [32, 13, 0, 2]\n",
        "])"
      ]
    },
    {
      "cell_type": "code",
      "execution_count": null,
      "metadata": {
        "colab": {
          "base_uri": "https://localhost:8080/"
        },
        "id": "13RYnIcs8OQw",
        "outputId": "58ca3c66-5f3e-4e00-e367-1622afb66f1d"
      },
      "outputs": [
        {
          "data": {
            "text/plain": [
              "array([[False, False, False, False],\n",
              "       [False, False, False, False],\n",
              "       [False, False, False, False],\n",
              "       [False, False,  True, False]])"
            ]
          },
          "execution_count": 41,
          "metadata": {},
          "output_type": "execute_result"
        }
      ],
      "source": [
        "A == 0"
      ]
    },
    {
      "cell_type": "code",
      "execution_count": null,
      "metadata": {
        "colab": {
          "base_uri": "https://localhost:8080/"
        },
        "id": "-m0434BA8Pmy",
        "outputId": "a0285415-5997-4f26-9804-5edd7bf3cf0d"
      },
      "outputs": [
        {
          "data": {
            "text/plain": [
              "(array([2, 2]), array([0, 2]))"
            ]
          },
          "execution_count": 43,
          "metadata": {},
          "output_type": "execute_result"
        }
      ],
      "source": [
        "np.where(A == 11)"
      ]
    },
    {
      "cell_type": "code",
      "execution_count": null,
      "metadata": {
        "colab": {
          "base_uri": "https://localhost:8080/"
        },
        "id": "CDE7eitn8Rpy",
        "outputId": "a75d13fc-d37f-4b79-af79-3a9ffb3f3526"
      },
      "outputs": [
        {
          "data": {
            "text/plain": [
              "3"
            ]
          },
          "execution_count": 44,
          "metadata": {},
          "output_type": "execute_result"
        }
      ],
      "source": [
        "A[1, 2]"
      ]
    },
    {
      "cell_type": "code",
      "execution_count": null,
      "metadata": {
        "colab": {
          "base_uri": "https://localhost:8080/"
        },
        "id": "iNU9C7wV8bwF",
        "outputId": "2a1ef03d-a6ae-4452-c5b0-2765b7b8423c"
      },
      "outputs": [
        {
          "data": {
            "text/plain": [
              "-19963.99999999999"
            ]
          },
          "execution_count": 45,
          "metadata": {},
          "output_type": "execute_result"
        }
      ],
      "source": [
        "np.linalg.det(A)"
      ]
    },
    {
      "cell_type": "code",
      "execution_count": null,
      "metadata": {
        "colab": {
          "base_uri": "https://localhost:8080/"
        },
        "id": "LTbTrMCh8eHg",
        "outputId": "b0d40efc-f810-4b06-e0b6-c1cef78b3df7"
      },
      "outputs": [
        {
          "data": {
            "text/plain": [
              "array([13. , 15.5,  4.5,  8. ])"
            ]
          },
          "execution_count": 49,
          "metadata": {},
          "output_type": "execute_result"
        }
      ],
      "source": [
        "A.mean(axis=0)"
      ]
    },
    {
      "cell_type": "code",
      "execution_count": null,
      "metadata": {
        "colab": {
          "base_uri": "https://localhost:8080/"
        },
        "id": "ptES6kRO8nT5",
        "outputId": "23c2ac77-a8d0-4308-950d-1a05a0347e87"
      },
      "outputs": [
        {
          "data": {
            "text/plain": [
              "array([[ 411,  491,  315,  253],\n",
              "       [ 491,  658,  454,  553],\n",
              "       [ 315,  454,  436,  531],\n",
              "       [ 253,  553,  531, 1197]])"
            ]
          },
          "execution_count": 52,
          "metadata": {},
          "output_type": "execute_result"
        }
      ],
      "source": [
        "np.matmul(A, A.T)"
      ]
    },
    {
      "cell_type": "code",
      "execution_count": 100,
      "metadata": {
        "id": "kg3TiczK83Br",
        "colab": {
          "base_uri": "https://localhost:8080/"
        },
        "outputId": "a1efb5e6-e820-4d16-fcb9-a861c1789132"
      },
      "outputs": [
        {
          "output_type": "stream",
          "name": "stdout",
          "text": [
            "[[ 0  2  3  4]\n",
            " [ 5  6  7  8]\n",
            " [ 9 10 11 12]\n",
            " [13 14 15 16]]\n",
            "an element from the second row and the third column:  7\n",
            "(array([0]), array([0]))\n",
            "(array([0]), array([2]))\n",
            "Vector [3,11,0] : [ 3  9 11]\n",
            "Determinant:  0.0\n",
            "Trace:  33\n",
            "16\n",
            "0\n",
            "Mean value of each column:  [ 6.75  8.    9.   10.  ]\n",
            "Maximum value of each row:  [ 4  8 12 16]\n",
            "Product of A and AT:\n",
            "  [[ 29  65 101 137]\n",
            " [ 65 174 278 382]\n",
            " [101 278 446 614]\n",
            " [137 382 614 846]]\n",
            "Eigenvalues:  [ 3.61446939e+01 -2.91706886e+00 -2.27625027e-01 -2.82998134e-16]\n",
            "Eigenvectors:  [[-1.47329223e-01 -8.04983593e-01  4.08687234e-01  6.07085845e-16]\n",
            " [-3.49531408e-01 -1.73555370e-01 -7.67365771e-01  4.08248290e-01]\n",
            " [-5.47657498e-01  1.81916530e-01 -1.47978089e-01 -8.16496581e-01]\n",
            " [-7.45783588e-01  5.37388430e-01  4.71409592e-01  4.08248290e-01]]\n"
          ]
        }
      ],
      "source": [
        "import numpy as np\n",
        "from numpy.linalg import det, eig\n",
        "\n",
        "A = np.array([[0,2,3,4], [5,6,7,8], [9,10,11,12], [13,14,15,16]])\n",
        "print(A)\n",
        "print(\"an element from the second row and the third column: \", A[1,2])\n",
        "where_0 = np.where(A == 0)\n",
        "print(where_0)\n",
        "index = np.where(A == 3)\n",
        "print(index)\n",
        "vector = A[[0,2,2], [2,0,2]]\n",
        "print(\"Vector [3,11,0] :\", vector)\n",
        "print(\"Determinant: \", det(A))\n",
        "print(\"Trace: \", np.trace(A))\n",
        "print(np.max(A))\n",
        "print(np.min(A))\n",
        "print(\"Mean value of each column: \", np.mean(A, axis=0))\n",
        "print(\"Maximum value of each row: \", np.max(A, axis=1))\n",
        "AT = A.T\n",
        "print(\"Product of A and AT:\\n \", np.dot(A, AT))\n",
        "eigenvalues, eigenvectors = eig(A)\n",
        "print(\"Eigenvalues: \", eigenvalues)\n",
        "print(\"Eigenvectors: \", eigenvectors)\n"
      ]
    },
    {
      "cell_type": "markdown",
      "metadata": {
        "id": "mlZX_s1sMKhi"
      },
      "source": [
        "### **<font color='#306998'>TASK </font><font color='#ffd33b'>1.18</font>**\n",
        "\n",
        "Create a 3x3 array and normalize its columns, ie. scale the values such that sum of each column equals 1 (unit vectors wrt. Manhattan metric)."
      ]
    },
    {
      "cell_type": "code",
      "execution_count": 101,
      "metadata": {
        "colab": {
          "base_uri": "https://localhost:8080/"
        },
        "id": "P2Z80N5D2vSk",
        "outputId": "6bdd95e1-41f3-496b-c575-d6748a71bb7c"
      },
      "outputs": [
        {
          "output_type": "execute_result",
          "data": {
            "text/plain": [
              "array([[ 7,  8,  9],\n",
              "       [10, 11, 12],\n",
              "       [13, 14, 15]])"
            ]
          },
          "metadata": {},
          "execution_count": 101
        }
      ],
      "source": [
        "A = np.arange(7, 16).reshape(3, -1)\n",
        "A"
      ]
    },
    {
      "cell_type": "code",
      "execution_count": 102,
      "metadata": {
        "colab": {
          "base_uri": "https://localhost:8080/"
        },
        "id": "YWbBtod59HO7",
        "outputId": "383f4f24-929c-47e7-ac7a-5f809cc94d96"
      },
      "outputs": [
        {
          "output_type": "execute_result",
          "data": {
            "text/plain": [
              "array([[0.23333333, 0.24242424, 0.25      ],\n",
              "       [0.33333333, 0.33333333, 0.33333333],\n",
              "       [0.43333333, 0.42424242, 0.41666667]])"
            ]
          },
          "metadata": {},
          "execution_count": 102
        }
      ],
      "source": [
        "A / A.sum(axis=0)"
      ]
    },
    {
      "cell_type": "code",
      "execution_count": 103,
      "metadata": {
        "colab": {
          "base_uri": "https://localhost:8080/"
        },
        "id": "jT51zsO0-Q3P",
        "outputId": "53bea9e3-5428-43a2-bcb1-510ff5f1402a"
      },
      "outputs": [
        {
          "output_type": "execute_result",
          "data": {
            "text/plain": [
              "array([1., 1., 1.])"
            ]
          },
          "metadata": {},
          "execution_count": 103
        }
      ],
      "source": [
        "(A / A.sum(axis=0)).sum(axis=0)"
      ]
    },
    {
      "cell_type": "code",
      "source": [
        "A = np.array([[1, 2, 3], [4, 5, 6], [7, 8, 9]])\n",
        "print(A)\n",
        "A_normalized = A / A.sum(axis=0)\n",
        "print(A_normalized)"
      ],
      "metadata": {
        "colab": {
          "base_uri": "https://localhost:8080/"
        },
        "id": "dXBFiB1kxMhk",
        "outputId": "1cbe953c-9bb4-4a6b-f7b8-b181ce38eb4e"
      },
      "execution_count": 109,
      "outputs": [
        {
          "output_type": "stream",
          "name": "stdout",
          "text": [
            "[[1 2 3]\n",
            " [4 5 6]\n",
            " [7 8 9]]\n",
            "[[0.08333333 0.13333333 0.16666667]\n",
            " [0.33333333 0.33333333 0.33333333]\n",
            " [0.58333333 0.53333333 0.5       ]]\n"
          ]
        }
      ]
    },
    {
      "cell_type": "markdown",
      "metadata": {
        "id": "FtWGs8x4MlYn"
      },
      "source": [
        "### **<font color='#306998'>TASK </font><font color='#ffd33b'>1.19</font>**\n",
        "\n",
        "Write a function that accepts a positive natural number $p\\in\\mathbb{N}_1$ and two NumPy vectors as an input (both of the same shape). The function should return the Mikowski distance between those vectors, ie.:\n",
        "$$d_p(X, Y) = \\left(\\sum_{i=1}^n |x_i - y_i|^p\\right)^\\frac{1}{p},$$\n",
        "\n",
        "where $X=[x_1, x_2, ..., x_n]\\in\\mathbb{R}^n$ and $Y=[y_1, y_2, ..., y_n]\\in\\mathbb{R}^n.$\n",
        "\n",
        "*Hint: you can use the following assertions `assert a.size == b.size, \"Arrays must be of the same shape\"`, and `assert isinstance(input_array_1, np.ndarray)`.*"
      ]
    },
    {
      "cell_type": "code",
      "execution_count": 116,
      "metadata": {
        "id": "YgupUCLu2vkv",
        "colab": {
          "base_uri": "https://localhost:8080/"
        },
        "outputId": "63237b48-57f9-4f0d-9780-50f513567eaa"
      },
      "outputs": [
        {
          "output_type": "stream",
          "name": "stdout",
          "text": [
            "5.196152422706632\n"
          ]
        }
      ],
      "source": [
        "X = np.array([1,2,3])\n",
        "Y = np.array([4,5,6])\n",
        "\n",
        "def minkowski_distance(p, X, Y):\n",
        "  assert isinstance(X, np.ndarray), \"Input must be a numpy array\"\n",
        "  assert isinstance(Y, np.ndarray), \"Input must be a numpy array\"\n",
        "  assert X.size == Y.size, \"Arrays must be of the same shape\"\n",
        "  assert p > 0, \"p must be a positive natural number\"\n",
        "\n",
        "  return np.sum(np.abs(X - Y) ** p) ** (1 / p)\n",
        "print(minkowski_distance(2, X, Y))"
      ]
    },
    {
      "cell_type": "markdown",
      "metadata": {
        "id": "hjThx18Fc2Qi"
      },
      "source": [
        "### **<font color='#306998'>TASK </font><font color='#ffd33b'>1.20</font>**\n",
        "\n",
        "Determine the length of the following vectors using Euclidean norm:\n",
        "* $v_1=[0, 5]$\n",
        "* $v_2=[0, -3]$\n",
        "* $v_3=[7, 0]$\n",
        "* $v_4=[-\\pi, 0]$\n",
        "* $v_5=[3, -4]$\n",
        "* $v_6=[1, 7]$\n",
        "* $v_7=[5\\sqrt{3}, -3, 4]$\n",
        "* $v_8=[1, 2, 3, 4]$\n",
        "\n",
        "*Hint: using default parameters of `numpy.linalg.norm()` function will return Frobenius norm for matrices which is equivalent to Euclidean norm for vectors:*\n",
        "https://numpy.org/doc/stable/reference/generated/numpy.linalg.norm.html"
      ]
    },
    {
      "cell_type": "code",
      "execution_count": null,
      "metadata": {
        "colab": {
          "base_uri": "https://localhost:8080/"
        },
        "id": "10NqtALe3WD3",
        "outputId": "b640772f-326b-4a42-aea6-2c8754bdfdbc"
      },
      "outputs": [
        {
          "data": {
            "text/plain": [
              "(array([0, 5]), 5.0)"
            ]
          },
          "execution_count": 74,
          "metadata": {},
          "output_type": "execute_result"
        }
      ],
      "source": [
        "v1 = np.array([0, 5])\n",
        "v1_len = np.linalg.norm(v1)\n",
        "\n",
        "v1, v1_len"
      ]
    },
    {
      "cell_type": "code",
      "execution_count": 119,
      "metadata": {
        "id": "GuUgxzdO-v5Y",
        "colab": {
          "base_uri": "https://localhost:8080/"
        },
        "outputId": "10089b4b-eb31-4e16-e49f-7cefe2e89510"
      },
      "outputs": [
        {
          "output_type": "stream",
          "name": "stdout",
          "text": [
            "Euclidean norm of v1:  5.0\n",
            "Euclidean norm of v1:  3.0\n",
            "Euclidean norm of v1:  7.0\n",
            "Euclidean norm of v1:  3.141592653589793\n",
            "Euclidean norm of v1:  5.0\n",
            "Euclidean norm of v1:  7.0710678118654755\n",
            "Euclidean norm of v1:  8.831760866327848\n",
            "Euclidean norm of v1:  5.477225575051661\n"
          ]
        }
      ],
      "source": [
        "v1 = np.array([0, 5])\n",
        "v2 = np.array([0, -3])\n",
        "v3 = np.array([7, 0])\n",
        "v4 = np.array([-np.pi, 0])\n",
        "v5 = np.array([3, -4])\n",
        "v6 = np.array([1, 7])\n",
        "v7 = np.array([np.sqrt(53), -3, 4])\n",
        "v8 = np.array([1,2,3,4])\n",
        "print(\"Euclidean norm of v1: \", np.linalg.norm(v1))\n",
        "print(\"Euclidean norm of v1: \", np.linalg.norm(v2))\n",
        "print(\"Euclidean norm of v1: \", np.linalg.norm(v3))\n",
        "print(\"Euclidean norm of v1: \", np.linalg.norm(v4))\n",
        "print(\"Euclidean norm of v1: \", np.linalg.norm(v5))\n",
        "print(\"Euclidean norm of v1: \", np.linalg.norm(v6))\n",
        "print(\"Euclidean norm of v1: \", np.linalg.norm(v7))\n",
        "print(\"Euclidean norm of v1: \", np.linalg.norm(v8))\n"
      ]
    },
    {
      "cell_type": "markdown",
      "metadata": {
        "id": "vStqDJ4rnSKK"
      },
      "source": [
        "### **<font color='#306998'>TASK </font><font color='#ffd33b'>1.21</font>**\n",
        "\n",
        "For the following vectors `a=[3, -2]` and `b=[-2, -3]`, determine their scalar product and the angle between these vectors.\n",
        "\n",
        "*Correct answer $\\alpha = 90^\\circ$.*"
      ]
    },
    {
      "cell_type": "code",
      "execution_count": 120,
      "metadata": {
        "colab": {
          "base_uri": "https://localhost:8080/"
        },
        "id": "zNOBdivK3WrN",
        "outputId": "ece73e11-5f59-494d-9218-d52876289b7f"
      },
      "outputs": [
        {
          "output_type": "execute_result",
          "data": {
            "text/plain": [
              "0"
            ]
          },
          "metadata": {},
          "execution_count": 120
        }
      ],
      "source": [
        "a = np.array([3, -2])\n",
        "b = np.array([-2, -3])\n",
        "\n",
        "np.dot(a, b)"
      ]
    },
    {
      "cell_type": "code",
      "execution_count": 121,
      "metadata": {
        "colab": {
          "base_uri": "https://localhost:8080/"
        },
        "id": "Hkvodmxm-67_",
        "outputId": "4183e9e4-5a48-4c13-fd8b-39616603ede6"
      },
      "outputs": [
        {
          "output_type": "execute_result",
          "data": {
            "text/plain": [
              "12.999999999999998"
            ]
          },
          "metadata": {},
          "execution_count": 121
        }
      ],
      "source": [
        "denominator = np.linalg.norm(a) * np.linalg.norm(b)\n",
        "denominator"
      ]
    },
    {
      "cell_type": "code",
      "execution_count": 122,
      "metadata": {
        "colab": {
          "base_uri": "https://localhost:8080/"
        },
        "id": "v9D5QRIG_MHM",
        "outputId": "a81fd0f8-082a-43fa-801e-9ccfabb71035"
      },
      "outputs": [
        {
          "output_type": "execute_result",
          "data": {
            "text/plain": [
              "0.0"
            ]
          },
          "metadata": {},
          "execution_count": 122
        }
      ],
      "source": [
        "cos_gamma = np.dot(a, b) / denominator\n",
        "cos_gamma"
      ]
    },
    {
      "cell_type": "code",
      "execution_count": 123,
      "metadata": {
        "colab": {
          "base_uri": "https://localhost:8080/"
        },
        "id": "dMjr5Nsn_QDx",
        "outputId": "a599dadf-b15d-4f46-ddac-6862bd3dcc88"
      },
      "outputs": [
        {
          "output_type": "execute_result",
          "data": {
            "text/plain": [
              "1.5707963267948966"
            ]
          },
          "metadata": {},
          "execution_count": 123
        }
      ],
      "source": [
        "gamma = np.arccos(cos_gamma)\n",
        "gamma  # radians, ~pi/2"
      ]
    },
    {
      "cell_type": "code",
      "source": [
        "a = np.array([3, -2])\n",
        "b = np.array([-2, -3])\n",
        "scalar_product = np.dot(a, b)\n",
        "norm_a = np.linalg.norm(a)\n",
        "norm_b = np.linalg.norm(b)\n",
        "angle_rad = np.arccos(scalar_product / (norm_a * norm_b))\n",
        "angle_deg = np.degrees(angle_rad)\n",
        "print(\"Scalar_product: \", scalar_product)\n",
        "print(\"Angle (degrees): \", angle_deg)"
      ],
      "metadata": {
        "colab": {
          "base_uri": "https://localhost:8080/"
        },
        "id": "LKisWWQc9hoh",
        "outputId": "f76d6b26-308a-4c2e-8a4a-6bdda9e46b53"
      },
      "execution_count": 124,
      "outputs": [
        {
          "output_type": "stream",
          "name": "stdout",
          "text": [
            "Scalar_product:  0\n",
            "Angle (degrees):  90.0\n"
          ]
        }
      ]
    },
    {
      "cell_type": "markdown",
      "metadata": {
        "id": "w9ia7byRnif-"
      },
      "source": [
        "### **<font color='#306998'>TASK </font><font color='#ffd33b'>1.22</font>**\n",
        "\n",
        "For the following vectors `a=[0, 3]` and `b=[2, 2]`, determine their scalar product and the angle between these vectors.\n",
        "\n",
        "*Correct answer $\\alpha = 45^\\circ$.*"
      ]
    },
    {
      "cell_type": "code",
      "execution_count": 125,
      "metadata": {
        "id": "UavbwPXD3W3Z",
        "colab": {
          "base_uri": "https://localhost:8080/"
        },
        "outputId": "89c96aa7-3284-458b-ac97-082ca181d5cd"
      },
      "outputs": [
        {
          "output_type": "stream",
          "name": "stdout",
          "text": [
            "scalar_product:  6\n",
            "Angle (degrees):  45.00000000000001\n"
          ]
        }
      ],
      "source": [
        "a = np.array([0, 3])\n",
        "b = np.array([2, 2])\n",
        "scalar_product = np.dot(a,b)\n",
        "norm_a = np.linalg.norm(a)\n",
        "norm_b = np.linalg.norm(b)\n",
        "angle_rad = np.arccos(scalar_product / (norm_a * norm_b))\n",
        "angle_deg = np.degrees(angle_rad)\n",
        "print(\"scalar_product: \", scalar_product)\n",
        "print(\"Angle (degrees): \", angle_deg)\n"
      ]
    },
    {
      "cell_type": "markdown",
      "metadata": {
        "id": "LcJuNR3smdft"
      },
      "source": [
        "### **<font color='#306998'>TASK </font><font color='#ffd33b'>1.23</font>**\n",
        "\n",
        "For the following vectors `a=[3, -2]` and `b=[1, 7]`, determine their scalar product and the angle between these vectors.\n",
        "\n",
        "*Correct answer $\\alpha ≈ 116^\\circ$.*"
      ]
    },
    {
      "cell_type": "code",
      "execution_count": 127,
      "metadata": {
        "id": "asXRQxg_3XL6",
        "colab": {
          "base_uri": "https://localhost:8080/"
        },
        "outputId": "1d403f5b-7da3-41cb-f06f-3f3c7c5344f7"
      },
      "outputs": [
        {
          "output_type": "stream",
          "name": "stdout",
          "text": [
            "scalar_product:  -11\n",
            "Angle (degrees):  115.55996517182382\n"
          ]
        }
      ],
      "source": [
        "a = np.array([3, -2])\n",
        "b = np.array([1, 7])\n",
        "scalar_product = np.dot(a,b)\n",
        "norm_a = np.linalg.norm(a)\n",
        "norm_b = np.linalg.norm(b)\n",
        "angle_rad = np.arccos(scalar_product / (norm_a * norm_b))\n",
        "angle_deg = np.degrees(angle_rad)\n",
        "print(\"scalar_product: \", scalar_product)\n",
        "print(\"Angle (degrees): \", angle_deg)"
      ]
    },
    {
      "cell_type": "markdown",
      "metadata": {
        "id": "vIV-LzBHcz64"
      },
      "source": [
        "### **<font color='#306998'>TASK </font><font color='#ffd33b'>1.24</font>**\n",
        "\n",
        "Normalize each vector from Task 20."
      ]
    },
    {
      "cell_type": "code",
      "execution_count": null,
      "metadata": {
        "colab": {
          "base_uri": "https://localhost:8080/"
        },
        "id": "-wmnUGrn3XrY",
        "outputId": "bd197290-926f-4474-9eb6-9e1d7f077676"
      },
      "outputs": [
        {
          "data": {
            "text/plain": [
              "array([0., 1.])"
            ]
          },
          "execution_count": 83,
          "metadata": {},
          "output_type": "execute_result"
        }
      ],
      "source": [
        "v1 / v1_len"
      ]
    },
    {
      "cell_type": "code",
      "execution_count": 130,
      "metadata": {
        "id": "QH3xIKCC_cvz",
        "colab": {
          "base_uri": "https://localhost:8080/"
        },
        "outputId": "5eecce8d-edb8-4793-b4ab-45dcabced2d7"
      },
      "outputs": [
        {
          "output_type": "stream",
          "name": "stdout",
          "text": [
            "V1 normalized:  [0. 1.]\n",
            "V2 normalized:  [ 0. -1.]\n",
            "V3 normalized:  [1. 0.]\n",
            "V4 normalized:  [-1.  0.]\n",
            "V5 normalized:  [ 0.6 -0.8]\n",
            "V6 normalized:  [0.14142136 0.98994949]\n",
            "V7 normalized:  [ 0.82431012 -0.33968311  0.45291081]\n",
            "V8 normalized:  [0.18257419 0.36514837 0.54772256 0.73029674]\n"
          ]
        }
      ],
      "source": [
        "v_1 = np.array([0,5])\n",
        "v_2 = np.array([0,-3])\n",
        "v_3 = np.array([7,0])\n",
        "v_4 = np.array([-np.pi,0])\n",
        "v_5 = np.array([3,-4])\n",
        "v_6 = np.array([1,7])\n",
        "v_7 = np.array([np.sqrt(53),-3,4])\n",
        "v_8 = np.array([1,2,3,4])\n",
        "\n",
        "v1_normalized = v1 / np.linalg.norm(v1)\n",
        "v2_normalized = v2 / np.linalg.norm(v2)\n",
        "v3_normalized = v3 / np.linalg.norm(v3)\n",
        "v4_normalized = v4 / np.linalg.norm(v4)\n",
        "v5_normalized = v5 / np.linalg.norm(v5)\n",
        "v6_normalized = v6 / np.linalg.norm(v6)\n",
        "v7_normalized = v7 / np.linalg.norm(v7)\n",
        "v8_normalized = v8 / np.linalg.norm(v8)\n",
        "print(\"V1 normalized: \", v1_normalized)\n",
        "print(\"V2 normalized: \", v2_normalized)\n",
        "print(\"V3 normalized: \", v3_normalized)\n",
        "print(\"V4 normalized: \", v4_normalized)\n",
        "print(\"V5 normalized: \", v5_normalized)\n",
        "print(\"V6 normalized: \", v6_normalized)\n",
        "print(\"V7 normalized: \", v7_normalized)\n",
        "print(\"V8 normalized: \", v8_normalized)"
      ]
    },
    {
      "cell_type": "markdown",
      "metadata": {
        "id": "yb78m3gz5GAw"
      },
      "source": [
        "<img src=\"https://drive.google.com/uc?export=view&id=141XOz6N4nk8Ru1sAl7vOsAToCLrSFCAX\" alt=\"SDA logo\" width=\"150\" align='right'/>\n",
        "<br>\n",
        "\n",
        "## Appendix: random numbers generators\n",
        "\n",
        "1. Randomly generated number(s) from normal (Gauss) distribution.\n",
        "```python\n",
        "np.random.normal()\n",
        "np.random.normal(size=6)\n",
        "```\n",
        "1. Randomly selected numbers from the uniform system.\n",
        "```python\n",
        "np.random.uniform(size=6)\n",
        "```\n",
        "1. Randomly selected number from a specific range.\n",
        "```python\n",
        "np.random.randint(3, 30, size=6)\n",
        "```\n",
        "1. Randomly selected floating-point number\n",
        "```python\n",
        "np.random.random()\n",
        "```"
      ]
    },
    {
      "cell_type": "code",
      "execution_count": null,
      "metadata": {
        "id": "aLlEPC4-5GYQ"
      },
      "outputs": [],
      "source": []
    }
  ],
  "metadata": {
    "colab": {
      "provenance": [],
      "include_colab_link": true
    },
    "kernelspec": {
      "display_name": "Python 3 (ipykernel)",
      "language": "python",
      "name": "python3"
    },
    "language_info": {
      "codemirror_mode": {
        "name": "ipython",
        "version": 3
      },
      "file_extension": ".py",
      "mimetype": "text/x-python",
      "name": "python",
      "nbconvert_exporter": "python",
      "pygments_lexer": "ipython3",
      "version": "3.9.13"
    }
  },
  "nbformat": 4,
  "nbformat_minor": 0
}