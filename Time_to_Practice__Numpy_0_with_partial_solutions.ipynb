{
  "nbformat": 4,
  "nbformat_minor": 0,
  "metadata": {
    "colab": {
      "provenance": [],
      "include_colab_link": true
    },
    "kernelspec": {
      "name": "python3",
      "display_name": "Python 3"
    },
    "language_info": {
      "name": "python"
    }
  },
  "cells": [
    {
      "cell_type": "markdown",
      "metadata": {
        "id": "view-in-github",
        "colab_type": "text"
      },
      "source": [
        "<a href=\"https://colab.research.google.com/github/Jolanta27/numpy_exercises/blob/master/Time_to_Practice__Numpy_0_with_partial_solutions.ipynb\" target=\"_parent\"><img src=\"https://colab.research.google.com/assets/colab-badge.svg\" alt=\"Open In Colab\"/></a>"
      ]
    },
    {
      "cell_type": "markdown",
      "source": [
        "<img height=\"180px\" src=\"https://drive.google.com/uc?export=view&id=141XOz6N4nk8Ru1sAl7vOsAToCLrSFCAX\" alt=\"SDA logo\" align=\"left\" hspace=\"30px\" vspace=\"50px\"/>\n",
        "\n",
        "# Welcome to your next notebook with SDA!\n",
        "\n",
        "During the classes we will mostly use [Google Colaboratory](https://colab.research.google.com/?hl=en) which is a free Jupyter notebook environment that requires no setup and runs entirely in the cloud.\n",
        "\n",
        "However, for bigger projects, especially involving Deep Learning and/or big data reading, it might be a better choice to setup Jupyter Notebook or Jupyter Lab on your computer. Also, it is worth noticing that there is a great number of useful extensions (see [nbextensions](https://jupyter-contrib-nbextensions.readthedocs.io/en/latest/index.html) and [jupyter-labextension](https://jupyterlab.readthedocs.io/en/stable/user/extensions.html)) not available for Colab users."
      ],
      "metadata": {
        "id": "-XWt3nPFhENg"
      }
    },
    {
      "cell_type": "markdown",
      "source": [
        "<img src=\"https://drive.google.com/uc?export=view&id=1UO2urRciECzoKE_vHy4RMGfFbkOWOGlW\" alt=\"SDA logo\" align=\"left\" width=\"100px\" hspace=\"10px\" vspace=\"10px\"/>\n",
        "<br>\n",
        "\n",
        "# TASKS"
      ],
      "metadata": {
        "id": "_pi_0qQeiZ-0"
      }
    },
    {
      "cell_type": "markdown",
      "source": [
        "<img src=\"https://drive.google.com/uc?export=view&id=141XOz6N4nk8Ru1sAl7vOsAToCLrSFCAX\" alt=\"SDA logo\" width=\"150\" align='right'/>\n",
        "<br>\n",
        "\n",
        "## Linear Algebra"
      ],
      "metadata": {
        "id": "rzZ3BUSfijKe"
      }
    },
    {
      "cell_type": "markdown",
      "source": [
        "### **<font color='#306998'>TASK </font><font color='#ffd33b'>1.1</font>**\n",
        "\n",
        "1. Create a NumPy array with consecutive values from 1 to 9. Display and then invert this array (first element becomes last, etc.).\n",
        "1. Do the same for the numbers between 7 and 19 (including these numbers)."
      ],
      "metadata": {
        "id": "2SAWPPl8ipUl"
      }
    },
    {
      "cell_type": "markdown",
      "source": [
        "1a/"
      ],
      "metadata": {
        "id": "XVST5X4sRbs3"
      }
    },
    {
      "cell_type": "code",
      "source": [
        "import numpy as np"
      ],
      "metadata": {
        "id": "UTOeLsGL-sx2"
      },
      "execution_count": null,
      "outputs": []
    },
    {
      "cell_type": "code",
      "source": [
        "naturals_1_9 = np.array([1, 2, 3, 4, 5, 6, 7, 8, 9])\n",
        "print(naturals_1_9)"
      ],
      "metadata": {
        "colab": {
          "base_uri": "https://localhost:8080/"
        },
        "id": "-dSe3mDC-wLM",
        "outputId": "54663860-3df5-4a1b-9e58-ec7677fa6e45",
        "collapsed": true
      },
      "execution_count": null,
      "outputs": [
        {
          "output_type": "stream",
          "name": "stdout",
          "text": [
            "[1 2 3 4 5 6 7 8 9]\n"
          ]
        }
      ]
    },
    {
      "cell_type": "code",
      "source": [
        "inverted_array = naturals_1_9[::-1]\n",
        "print(inverted_array)"
      ],
      "metadata": {
        "colab": {
          "base_uri": "https://localhost:8080/"
        },
        "id": "c9eDI3reutTG",
        "outputId": "50474a92-d4b0-44f2-836e-f48b2fed4ede"
      },
      "execution_count": null,
      "outputs": [
        {
          "output_type": "stream",
          "name": "stdout",
          "text": [
            "[9 8 7 6 5 4 3 2 1]\n"
          ]
        }
      ]
    },
    {
      "cell_type": "code",
      "source": [
        "np.arange(1, 10)  # start is inclusive, right exclusive (aka right-open)"
      ],
      "metadata": {
        "colab": {
          "base_uri": "https://localhost:8080/"
        },
        "id": "SJD-LbZXWcoL",
        "outputId": "05bd7b58-fe58-4781-c56d-cd235f457221"
      },
      "execution_count": null,
      "outputs": [
        {
          "output_type": "execute_result",
          "data": {
            "text/plain": [
              "array([1, 2, 3, 4, 5, 6, 7, 8, 9])"
            ]
          },
          "metadata": {},
          "execution_count": 6
        }
      ]
    },
    {
      "cell_type": "code",
      "source": [
        "np.linspace(1, 9, 9)  # both inclusive"
      ],
      "metadata": {
        "colab": {
          "base_uri": "https://localhost:8080/"
        },
        "id": "PHU3_Tz6Wd2Z",
        "outputId": "116d31c9-bf54-4963-8f85-71460b852178"
      },
      "execution_count": null,
      "outputs": [
        {
          "output_type": "execute_result",
          "data": {
            "text/plain": [
              "array([1., 2., 3., 4., 5., 6., 7., 8., 9.])"
            ]
          },
          "metadata": {},
          "execution_count": 7
        }
      ]
    },
    {
      "cell_type": "code",
      "source": [
        "naturals_7_19 = np.arange(7, 20)\n",
        "print(naturals_7_19)"
      ],
      "metadata": {
        "colab": {
          "base_uri": "https://localhost:8080/"
        },
        "id": "fFDIvoOAvuei",
        "outputId": "47a22a31-e079-4efd-ac20-4bec2324dc16"
      },
      "execution_count": null,
      "outputs": [
        {
          "output_type": "stream",
          "name": "stdout",
          "text": [
            "[ 7  8  9 10 11 12 13 14 15 16 17 18 19]\n"
          ]
        }
      ]
    },
    {
      "cell_type": "code",
      "source": [
        "inverted_7_19 = naturals_7_19[::-1]\n",
        "print(inverted_7_19)"
      ],
      "metadata": {
        "colab": {
          "base_uri": "https://localhost:8080/"
        },
        "id": "4tC8pEHGwTOc",
        "outputId": "1c6763b4-30fd-4030-dd66-b74f22e77017"
      },
      "execution_count": null,
      "outputs": [
        {
          "output_type": "stream",
          "name": "stdout",
          "text": [
            "[19 18 17 16 15 14 13 12 11 10  9  8  7]\n"
          ]
        }
      ]
    },
    {
      "cell_type": "code",
      "source": [
        "np.array([i for i in range(1, 10)])  # with list comprehension and range function"
      ],
      "metadata": {
        "colab": {
          "base_uri": "https://localhost:8080/"
        },
        "id": "w7iOI8wdWfGs",
        "outputId": "8ab2085d-3e80-45ca-cd3b-490ceab17bca"
      },
      "execution_count": null,
      "outputs": [
        {
          "output_type": "execute_result",
          "data": {
            "text/plain": [
              "array([1, 2, 3, 4, 5, 6, 7, 8, 9])"
            ]
          },
          "metadata": {},
          "execution_count": 8
        }
      ]
    },
    {
      "cell_type": "markdown",
      "source": [
        "1b/"
      ],
      "metadata": {
        "id": "fLrvYwReRdVd"
      }
    },
    {
      "cell_type": "code",
      "source": [
        "naturals_1_9[::-1]  # start:stop:step"
      ],
      "metadata": {
        "colab": {
          "base_uri": "https://localhost:8080/"
        },
        "id": "LhXQRKv1-7mj",
        "outputId": "20b1b9ef-aec8-4939-82f0-5130b74399aa"
      },
      "execution_count": null,
      "outputs": [
        {
          "output_type": "execute_result",
          "data": {
            "text/plain": [
              "array([9, 8, 7, 6, 5, 4, 3, 2, 1])"
            ]
          },
          "metadata": {},
          "execution_count": 46
        }
      ]
    },
    {
      "cell_type": "code",
      "source": [
        "# using numpy function flip\n",
        "np.flip(naturals_1_9)"
      ],
      "metadata": {
        "colab": {
          "base_uri": "https://localhost:8080/"
        },
        "id": "ox7atXADWmBS",
        "outputId": "d75dee40-cbc9-40fa-9ee4-b0425d967323"
      },
      "execution_count": null,
      "outputs": [
        {
          "output_type": "execute_result",
          "data": {
            "text/plain": [
              "array([9, 8, 7, 6, 5, 4, 3, 2, 1])"
            ]
          },
          "metadata": {},
          "execution_count": 47
        }
      ]
    },
    {
      "cell_type": "code",
      "source": [
        "# list comprehension\n",
        "np.array([naturals_1_9[i] for i in range(len(naturals_1_9) - 1, -1, -1)])"
      ],
      "metadata": {
        "colab": {
          "base_uri": "https://localhost:8080/"
        },
        "id": "T1Py4TL4Wny1",
        "outputId": "a89c5a95-c9bf-4f44-fa82-036ad0452ce4"
      },
      "execution_count": null,
      "outputs": [
        {
          "output_type": "execute_result",
          "data": {
            "text/plain": [
              "array([9, 8, 7, 6, 5, 4, 3, 2, 1])"
            ]
          },
          "metadata": {},
          "execution_count": 48
        }
      ]
    },
    {
      "cell_type": "code",
      "source": [
        "# with a for loop\n",
        "inverted_naturals = []\n",
        "for i in range(len(naturals_1_9) - 1, -1, -1):\n",
        "    inverted_naturals.append(naturals_1_9[i])\n",
        "np.array(inverted_naturals)"
      ],
      "metadata": {
        "colab": {
          "base_uri": "https://localhost:8080/"
        },
        "id": "mOKPW1xPWpVf",
        "outputId": "119490e1-06a6-42f6-c060-26241087247d"
      },
      "execution_count": null,
      "outputs": [
        {
          "output_type": "execute_result",
          "data": {
            "text/plain": [
              "array([9, 8, 7, 6, 5, 4, 3, 2, 1])"
            ]
          },
          "metadata": {},
          "execution_count": 49
        }
      ]
    },
    {
      "cell_type": "code",
      "source": [
        "# using Python function sorted\n",
        "np.array(\n",
        "    sorted(naturals_1_9, reverse=True)\n",
        ")"
      ],
      "metadata": {
        "colab": {
          "base_uri": "https://localhost:8080/"
        },
        "id": "hcRIx2XUWrfa",
        "outputId": "4c820fdc-f99e-4169-ed3e-e663b0c93bf0"
      },
      "execution_count": null,
      "outputs": [
        {
          "output_type": "execute_result",
          "data": {
            "text/plain": [
              "array([9, 8, 7, 6, 5, 4, 3, 2, 1])"
            ]
          },
          "metadata": {},
          "execution_count": 50
        }
      ]
    },
    {
      "cell_type": "markdown",
      "source": [
        "2/"
      ],
      "metadata": {
        "id": "GRERJ_u6VUKZ"
      }
    },
    {
      "cell_type": "code",
      "source": [
        "naturals_7_19 = np.arange(7, 20)\n",
        "print(naturals_7_19)"
      ],
      "metadata": {
        "colab": {
          "base_uri": "https://localhost:8080/"
        },
        "outputId": "47a22a31-e079-4efd-ac20-4bec2324dc16",
        "id": "3DG4AgPkyXDZ"
      },
      "execution_count": null,
      "outputs": [
        {
          "output_type": "stream",
          "name": "stdout",
          "text": [
            "[ 7  8  9 10 11 12 13 14 15 16 17 18 19]\n"
          ]
        }
      ]
    },
    {
      "cell_type": "code",
      "source": [
        "inverted_7_19 = naturals_7_19[::-1]\n",
        "print(inverted_7_19)"
      ],
      "metadata": {
        "colab": {
          "base_uri": "https://localhost:8080/"
        },
        "outputId": "1c6763b4-30fd-4030-dd66-b74f22e77017",
        "id": "XOY9WL-VygKN"
      },
      "execution_count": null,
      "outputs": [
        {
          "output_type": "stream",
          "name": "stdout",
          "text": [
            "[19 18 17 16 15 14 13 12 11 10  9  8  7]\n"
          ]
        }
      ]
    },
    {
      "cell_type": "markdown",
      "source": [
        "### **<font color='#306998'>TASK </font><font color='#ffd33b'>1.2</font>**\n",
        "\n",
        "1. Create the following NumPy array: `np.array([1, 23, 4, 31, 1, 1, 4, 23, 4, 1])`; and then list all unique (non-repeating) elements.\n",
        "1. Perform similar task with the following NumPy array np.array([44, 1, 7, 12, 7, 44, 4, 7, 12, 1]) and then for each unique value, print out the value itself and the number of its occurences."
      ],
      "metadata": {
        "id": "AuyyjAy6i0H2"
      }
    },
    {
      "cell_type": "markdown",
      "source": [
        "1/"
      ],
      "metadata": {
        "id": "-bzd87HaWI2a"
      }
    },
    {
      "cell_type": "code",
      "source": [
        "my_array = np.array([1, 23, 4, 31, 1, 1, 4, 23, 4, 1])\n",
        "\n",
        "unique_elements = []\n",
        "\n",
        "for elem in my_array:\n",
        "    if elem not in unique_elements:\n",
        "        unique_elements.append(elem)\n",
        "\n",
        "unique_elements"
      ],
      "metadata": {
        "colab": {
          "base_uri": "https://localhost:8080/"
        },
        "id": "0En1ovQzVdU6",
        "outputId": "72866eb5-9984-4be1-e3c2-1f6146efeefb"
      },
      "execution_count": null,
      "outputs": [
        {
          "output_type": "execute_result",
          "data": {
            "text/plain": [
              "[1, 23, 4, 31]"
            ]
          },
          "metadata": {},
          "execution_count": 40
        }
      ]
    },
    {
      "cell_type": "code",
      "source": [
        "# built-in numpy function\n",
        "np.unique(my_array)"
      ],
      "metadata": {
        "colab": {
          "base_uri": "https://localhost:8080/"
        },
        "id": "gej2dqsHWW8e",
        "outputId": "e6c5b2a1-3492-452a-e5c7-ce6bff5d7a9e"
      },
      "execution_count": null,
      "outputs": [
        {
          "output_type": "execute_result",
          "data": {
            "text/plain": [
              "array([ 1,  4, 23, 31])"
            ]
          },
          "metadata": {},
          "execution_count": 41
        }
      ]
    },
    {
      "cell_type": "code",
      "source": [
        "# using set to extract unique elements\n",
        "set(my_array)"
      ],
      "metadata": {
        "colab": {
          "base_uri": "https://localhost:8080/"
        },
        "id": "MMlpuhWbWtud",
        "outputId": "3408838c-2a0d-4f74-980a-cb037add97a6"
      },
      "execution_count": null,
      "outputs": [
        {
          "output_type": "execute_result",
          "data": {
            "text/plain": [
              "{1, 4, 23, 31}"
            ]
          },
          "metadata": {},
          "execution_count": 52
        }
      ]
    },
    {
      "cell_type": "markdown",
      "source": [
        "2/"
      ],
      "metadata": {
        "id": "Y7-XV6QXWKpk"
      }
    },
    {
      "cell_type": "code",
      "source": [
        "my_array_2 = np.array([44, 1, 7, 12, 7, 44, 4, 7, 12, 1])\n",
        "print(my_array_2)\n",
        "unique_values, counts = np.unique(my_array_2, return_counts=True)\n",
        "print(unique_values)\n",
        "for value, count in zip(unique_values, counts):\n",
        "  print(f\"Value: {value}, Count: {count}\")"
      ],
      "metadata": {
        "id": "GL2GUFogWLu1",
        "colab": {
          "base_uri": "https://localhost:8080/"
        },
        "outputId": "1d032632-eb1f-45eb-91ea-043071071dea"
      },
      "execution_count": null,
      "outputs": [
        {
          "output_type": "stream",
          "name": "stdout",
          "text": [
            "[44  1  7 12  7 44  4  7 12  1]\n",
            "[ 1  4  7 12 44]\n",
            "Value: 1, Count: 2\n",
            "Value: 4, Count: 1\n",
            "Value: 7, Count: 3\n",
            "Value: 12, Count: 2\n",
            "Value: 44, Count: 2\n"
          ]
        }
      ]
    },
    {
      "cell_type": "markdown",
      "source": [
        "*Tip for the second part of the task:*\n",
        "\n",
        "*If you want to additionally count the occurrences of each of the unique elements then you can:*\n",
        "\n",
        "*   use `np.unique()` function with `return_count=True`\n",
        "*   use `from collections import Counter`, read more https://docs.python.org/3/library/collections.html#collections.Counter\n",
        "*   use a dict with a for loop to `+1` each time an element shows up\n"
      ],
      "metadata": {
        "id": "P47epBjXXktp"
      }
    },
    {
      "cell_type": "code",
      "source": [],
      "metadata": {
        "id": "SqZVP5t0Yi52"
      },
      "execution_count": null,
      "outputs": []
    },
    {
      "cell_type": "markdown",
      "source": [
        "### **<font color='#306998'>TASK </font><font color='#ffd33b'>1.3</font>**\n",
        "\n",
        "1. Create a 3x3 matrix (by using `reshape` method) containign values ranging from 2 to 10 (inclusively).\n",
        "1. Next, construct a 2x5 matrix filled with consecutive integers beginning at 35 and concluding at 44.\n",
        "  * Explore additional configurations that this matrix can have (different shapes).\n"
      ],
      "metadata": {
        "id": "eaH_HXM0i4VN"
      }
    },
    {
      "cell_type": "markdown",
      "source": [
        "1/"
      ],
      "metadata": {
        "id": "bR3raP9bZ2uc"
      }
    },
    {
      "cell_type": "code",
      "source": [
        "np.array([[2, 3, 4], [5, 6, 7], [8, 9, 10]])"
      ],
      "metadata": {
        "colab": {
          "base_uri": "https://localhost:8080/"
        },
        "id": "vrpg6M7ZYj0B",
        "outputId": "4228361e-3ebd-4e30-ad37-9879af9c4121"
      },
      "execution_count": null,
      "outputs": [
        {
          "output_type": "execute_result",
          "data": {
            "text/plain": [
              "array([[ 2,  3,  4],\n",
              "       [ 5,  6,  7],\n",
              "       [ 8,  9, 10]])"
            ]
          },
          "metadata": {},
          "execution_count": 20
        }
      ]
    },
    {
      "cell_type": "code",
      "source": [
        "np.array([\n",
        "    [2, 3, 4],\n",
        "    [5, 6, 7],\n",
        "    [8, 9, 10]\n",
        "])"
      ],
      "metadata": {
        "colab": {
          "base_uri": "https://localhost:8080/"
        },
        "id": "f5Bk47v4YxMC",
        "outputId": "5989116b-66c9-4ddf-9ab8-30d2e387faba"
      },
      "execution_count": null,
      "outputs": [
        {
          "output_type": "execute_result",
          "data": {
            "text/plain": [
              "array([[ 2,  3,  4],\n",
              "       [ 5,  6,  7],\n",
              "       [ 8,  9, 10]])"
            ]
          },
          "metadata": {},
          "execution_count": 21
        }
      ]
    },
    {
      "cell_type": "code",
      "source": [
        "np.arange(2, 11).reshape(3, 3)  # 3 rows, 3 columns"
      ],
      "metadata": {
        "colab": {
          "base_uri": "https://localhost:8080/"
        },
        "id": "YnaL8QA1Y7_Q",
        "outputId": "0d4f262e-2d61-490d-cb73-65211ff10539"
      },
      "execution_count": null,
      "outputs": [
        {
          "output_type": "execute_result",
          "data": {
            "text/plain": [
              "array([[ 2,  3,  4],\n",
              "       [ 5,  6,  7],\n",
              "       [ 8,  9, 10]])"
            ]
          },
          "metadata": {},
          "execution_count": 22
        }
      ]
    },
    {
      "cell_type": "code",
      "source": [
        "np.arange(2, 11).reshape(3, -1)  # 3 rows, automatically count the number of columns"
      ],
      "metadata": {
        "colab": {
          "base_uri": "https://localhost:8080/"
        },
        "id": "gQwSyX1hZFl-",
        "outputId": "11e52fa7-82e6-472c-ea2a-ffd777e67e45"
      },
      "execution_count": null,
      "outputs": [
        {
          "output_type": "execute_result",
          "data": {
            "text/plain": [
              "array([[ 2,  3,  4],\n",
              "       [ 5,  6,  7],\n",
              "       [ 8,  9, 10]])"
            ]
          },
          "metadata": {},
          "execution_count": 23
        }
      ]
    },
    {
      "cell_type": "code",
      "source": [
        "np.arange(2, 11).reshape(-1, 3)  # 3 columns, automatically count the number of rows"
      ],
      "metadata": {
        "colab": {
          "base_uri": "https://localhost:8080/"
        },
        "id": "LtQqHG5sZcKu",
        "outputId": "e634392c-e1ae-4d59-b5c6-a7bb0b557333"
      },
      "execution_count": null,
      "outputs": [
        {
          "output_type": "execute_result",
          "data": {
            "text/plain": [
              "array([[ 2,  3,  4],\n",
              "       [ 5,  6,  7],\n",
              "       [ 8,  9, 10]])"
            ]
          },
          "metadata": {},
          "execution_count": 24
        }
      ]
    },
    {
      "cell_type": "markdown",
      "source": [
        "2/"
      ],
      "metadata": {
        "id": "bfkDdto6Z4K3"
      }
    },
    {
      "cell_type": "code",
      "source": [
        "array = np.arange(35, 45)\n",
        "print(array)\n",
        "matrix_2x5 = array.reshape(2, 5)\n",
        "print(matrix_2x5)\n",
        "matrix_2x5 = array.reshape(5, 2)\n",
        "print(matrix_2x5)\n",
        "matrix_2x5 = array.reshape(10, 1)\n",
        "print(matrix_2x5)"
      ],
      "metadata": {
        "id": "1VB04iZXZ8sy",
        "colab": {
          "base_uri": "https://localhost:8080/"
        },
        "outputId": "5f22424e-8915-4f60-95ba-e803ad68b8b7"
      },
      "execution_count": null,
      "outputs": [
        {
          "output_type": "stream",
          "name": "stdout",
          "text": [
            "[35 36 37 38 39 40 41 42 43 44]\n",
            "[[35 36 37 38 39]\n",
            " [40 41 42 43 44]]\n",
            "[[35 36]\n",
            " [37 38]\n",
            " [39 40]\n",
            " [41 42]\n",
            " [43 44]]\n",
            "[[35]\n",
            " [36]\n",
            " [37]\n",
            " [38]\n",
            " [39]\n",
            " [40]\n",
            " [41]\n",
            " [42]\n",
            " [43]\n",
            " [44]]\n"
          ]
        }
      ]
    },
    {
      "cell_type": "markdown",
      "source": [
        "### **<font color='#306998'>TASK </font><font color='#ffd33b'>1.4</font>**\n",
        "\n",
        "1. Create an array with six random integers between 10 and 30.\n",
        "1. Create an array with eight random integers between 102 and 159.\n",
        "1. Create an array with ten random real values between 0 and 7. (optional)"
      ],
      "metadata": {
        "id": "Loa3gsQti_5q"
      }
    },
    {
      "cell_type": "markdown",
      "source": [
        "1/ See Appendix for more information"
      ],
      "metadata": {
        "id": "YKndmlZ8cySs"
      }
    },
    {
      "cell_type": "code",
      "source": [
        "np.random.randint(10, 31, size=6)"
      ],
      "metadata": {
        "colab": {
          "base_uri": "https://localhost:8080/"
        },
        "id": "kOEdNEfnbXzI",
        "outputId": "dd0ad8e7-d0fd-4828-e4e3-108158aa3134"
      },
      "execution_count": null,
      "outputs": [
        {
          "output_type": "execute_result",
          "data": {
            "text/plain": [
              "array([10, 13, 21, 24, 21, 25])"
            ]
          },
          "metadata": {},
          "execution_count": 69
        }
      ]
    },
    {
      "cell_type": "code",
      "source": [
        "np.random.choice(\n",
        "    np.arange(10, 31),  # values to choose from\n",
        "    size=6,  # number of values to choose\n",
        "    replace=True  # non-unique elements, possible repetitions\n",
        ")"
      ],
      "metadata": {
        "colab": {
          "base_uri": "https://localhost:8080/"
        },
        "id": "JyRIb6xucFAg",
        "outputId": "11ceab0d-1847-468e-b4e4-4fc97bf0b5ac"
      },
      "execution_count": null,
      "outputs": [
        {
          "output_type": "execute_result",
          "data": {
            "text/plain": [
              "array([10, 30, 21, 17, 13, 11])"
            ]
          },
          "metadata": {},
          "execution_count": 70
        }
      ]
    },
    {
      "cell_type": "markdown",
      "source": [
        "2/"
      ],
      "metadata": {
        "id": "BENmehw_czTv"
      }
    },
    {
      "cell_type": "code",
      "source": [
        "np.random.randint(102, 160, size=8)"
      ],
      "metadata": {
        "id": "b9itFiqDcUfJ",
        "colab": {
          "base_uri": "https://localhost:8080/"
        },
        "outputId": "00c2a89e-2432-48cc-e4eb-4cc958567951"
      },
      "execution_count": null,
      "outputs": [
        {
          "output_type": "execute_result",
          "data": {
            "text/plain": [
              "array([126, 125, 147, 155, 105, 145, 158, 141])"
            ]
          },
          "metadata": {},
          "execution_count": 31
        }
      ]
    },
    {
      "cell_type": "code",
      "source": [
        "array = np.random.uniform(0, 7, 10)\n",
        "print(array)"
      ],
      "metadata": {
        "colab": {
          "base_uri": "https://localhost:8080/"
        },
        "id": "-eZ9al-e88kE",
        "outputId": "895b5eeb-c5e4-4388-e0f7-109e8db17199"
      },
      "execution_count": null,
      "outputs": [
        {
          "output_type": "stream",
          "name": "stdout",
          "text": [
            "[0.04996959 3.18441306 5.58003716 3.21689875 5.60892004 5.00493648\n",
            " 5.78657519 4.45416873 6.20832943 3.4338994 ]\n"
          ]
        }
      ]
    },
    {
      "cell_type": "markdown",
      "source": [
        "### **<font color='#306998'>TASK </font><font color='#ffd33b'>1.5</font>**\n",
        "\n",
        "1. Use the following code to define 2D array, ie. matrix, and then determine its dimension and number of elements.\n",
        "1. Perform the same operations using matrices from 1.3.\n",
        "\n",
        "```\n",
        "A = np.array([[1, 2, 3, 4], [5, 6, -7, 1]])\n",
        "```"
      ],
      "metadata": {
        "id": "myGAohGTklB0"
      }
    },
    {
      "cell_type": "markdown",
      "source": [
        "1/"
      ],
      "metadata": {
        "id": "pgNnWYaqdr5O"
      }
    },
    {
      "cell_type": "code",
      "source": [
        "A = np.array([[1, 2, 3, 4], [5, 6, -7, 1]])"
      ],
      "metadata": {
        "id": "j7g9p9Woc9c4"
      },
      "execution_count": null,
      "outputs": []
    },
    {
      "cell_type": "code",
      "source": [
        "dimensions = A.shape\n",
        "dimensions"
      ],
      "metadata": {
        "colab": {
          "base_uri": "https://localhost:8080/"
        },
        "id": "9ixCMoTDc_NV",
        "outputId": "34355b67-558d-4128-9c82-fb4ee9e18628"
      },
      "execution_count": null,
      "outputs": [
        {
          "output_type": "execute_result",
          "data": {
            "text/plain": [
              "(2, 4)"
            ]
          },
          "metadata": {},
          "execution_count": 77
        }
      ]
    },
    {
      "cell_type": "code",
      "source": [
        "rows, columns = dimensions"
      ],
      "metadata": {
        "id": "n1OcBvujdX1m"
      },
      "execution_count": null,
      "outputs": []
    },
    {
      "cell_type": "code",
      "source": [
        "A.size"
      ],
      "metadata": {
        "colab": {
          "base_uri": "https://localhost:8080/"
        },
        "id": "IMnWU1PddCLD",
        "outputId": "8de0b7fd-4bd0-49d3-f525-0b6dea4867ec"
      },
      "execution_count": null,
      "outputs": [
        {
          "output_type": "execute_result",
          "data": {
            "text/plain": [
              "8"
            ]
          },
          "metadata": {},
          "execution_count": 79
        }
      ]
    },
    {
      "cell_type": "markdown",
      "source": [
        "2/"
      ],
      "metadata": {
        "id": "TQ0NN9Epdspi"
      }
    },
    {
      "cell_type": "code",
      "source": [
        "import numpy as np\n",
        "\n",
        "B = np.array([[2, 3, 4], [5, 6, 7], [8, 9, 10]])\n",
        "print(B)\n",
        "dimensions = B.shape\n",
        "print(dimensions)\n",
        "num_elements = B.size\n",
        "print(num_elements)"
      ],
      "metadata": {
        "id": "B4F4qwsvdgBt",
        "colab": {
          "base_uri": "https://localhost:8080/"
        },
        "outputId": "ad784052-5f0a-4b53-ae34-f42ffec7d638"
      },
      "execution_count": null,
      "outputs": [
        {
          "output_type": "stream",
          "name": "stdout",
          "text": [
            "[[ 2  3  4]\n",
            " [ 5  6  7]\n",
            " [ 8  9 10]]\n",
            "(3, 3)\n",
            "9\n"
          ]
        }
      ]
    },
    {
      "cell_type": "code",
      "source": [
        "array = np.arange(35, 45)\n",
        "print(array)\n",
        "dimenstions = array.shape\n",
        "print(dimenstions)\n",
        "num_elem = array.size\n",
        "print(num_elem)"
      ],
      "metadata": {
        "colab": {
          "base_uri": "https://localhost:8080/"
        },
        "id": "gNPZBOMBpPju",
        "outputId": "a2e0e31e-9151-45ee-8d40-b1ee3a72fbf4"
      },
      "execution_count": null,
      "outputs": [
        {
          "output_type": "stream",
          "name": "stdout",
          "text": [
            "[35 36 37 38 39 40 41 42 43 44]\n",
            "(10,)\n",
            "10\n"
          ]
        }
      ]
    },
    {
      "cell_type": "markdown",
      "source": [
        "### **<font color='#306998'>TASK </font><font color='#ffd33b'>1.6</font>**\n",
        "\n",
        "1/ From the array of values: `[23, 45, 112, 150, 43, 254, 95, 8]` filter for those that are greater than 100."
      ],
      "metadata": {
        "id": "JK8m2RO0jGvd"
      }
    },
    {
      "cell_type": "code",
      "source": [
        "array = np.array([23, 45, 112, 150, 43, 254, 95, 8])"
      ],
      "metadata": {
        "id": "3mgdIqoedt1O"
      },
      "execution_count": null,
      "outputs": []
    },
    {
      "cell_type": "code",
      "source": [
        "array > 100  # boolean mask"
      ],
      "metadata": {
        "colab": {
          "base_uri": "https://localhost:8080/"
        },
        "id": "uvR4xnaxdzTn",
        "outputId": "7dce68ee-48e4-4931-e5e8-3b5b3ec9fe48"
      },
      "execution_count": null,
      "outputs": [
        {
          "output_type": "execute_result",
          "data": {
            "text/plain": [
              "array([False, False,  True,  True, False,  True, False, False])"
            ]
          },
          "metadata": {},
          "execution_count": 81
        }
      ]
    },
    {
      "cell_type": "code",
      "source": [
        "array[array > 100]  # indexing"
      ],
      "metadata": {
        "colab": {
          "base_uri": "https://localhost:8080/"
        },
        "id": "Bdsm1iw6d08X",
        "outputId": "3ac2aac0-ea06-4d91-9281-8c4ff442d233"
      },
      "execution_count": null,
      "outputs": [
        {
          "output_type": "execute_result",
          "data": {
            "text/plain": [
              "array([112, 150, 254])"
            ]
          },
          "metadata": {},
          "execution_count": 83
        }
      ]
    },
    {
      "cell_type": "code",
      "source": [
        "# less efficient\n",
        "array_above_100 = []\n",
        "\n",
        "for i in array:\n",
        "    if i > 100:\n",
        "        array_above_100.append(i)\n",
        "\n",
        "array_above_100"
      ],
      "metadata": {
        "colab": {
          "base_uri": "https://localhost:8080/"
        },
        "id": "VUfKF8Q7eNqI",
        "outputId": "00ca548f-1f77-4e7a-ee1d-272ebfe09b20"
      },
      "execution_count": null,
      "outputs": [
        {
          "output_type": "execute_result",
          "data": {
            "text/plain": [
              "[112, 150, 254]"
            ]
          },
          "metadata": {},
          "execution_count": 84
        }
      ]
    },
    {
      "cell_type": "code",
      "source": [
        "[i for i in array if i > 100]"
      ],
      "metadata": {
        "colab": {
          "base_uri": "https://localhost:8080/"
        },
        "id": "2b4hDFN2eZkg",
        "outputId": "de335032-6a32-4f15-dc49-9b67ce307e80"
      },
      "execution_count": null,
      "outputs": [
        {
          "output_type": "execute_result",
          "data": {
            "text/plain": [
              "[112, 150, 254]"
            ]
          },
          "metadata": {},
          "execution_count": 86
        }
      ]
    },
    {
      "cell_type": "code",
      "source": [
        "# useful if you need a list of indices\n",
        "np.where(array > 100)[0]"
      ],
      "metadata": {
        "colab": {
          "base_uri": "https://localhost:8080/"
        },
        "id": "qFB3XdB9e-lm",
        "outputId": "71f1100f-9d3c-4cea-ee23-a011265e00bf"
      },
      "execution_count": null,
      "outputs": [
        {
          "output_type": "execute_result",
          "data": {
            "text/plain": [
              "array([2, 3, 5])"
            ]
          },
          "metadata": {},
          "execution_count": 88
        }
      ]
    },
    {
      "cell_type": "markdown",
      "source": [
        "2/ From the array `[10, 21, 32, 43, 54, 65, 76, 87]`, filter for those values that are odd."
      ],
      "metadata": {
        "id": "bVC-EQoId986"
      }
    },
    {
      "cell_type": "code",
      "source": [
        "np.array([10, 21, 32, 43, 54, 65, 76, 87])\n",
        "mask = array % 2 !=0\n",
        "odd_values = array[mask]\n",
        "print(odd_values)"
      ],
      "metadata": {
        "id": "9PuAYopAd3IC",
        "colab": {
          "base_uri": "https://localhost:8080/"
        },
        "outputId": "43fdf159-dbf1-47b0-eb3a-329472de1089"
      },
      "execution_count": null,
      "outputs": [
        {
          "output_type": "stream",
          "name": "stdout",
          "text": [
            "[35 37 39 41 43]\n"
          ]
        }
      ]
    },
    {
      "cell_type": "markdown",
      "source": [
        "### **<font color='#306998'>TASK </font><font color='#ffd33b'>1.7</font>**\n",
        "\n",
        "Create the 4x4 matrix below, then:\n",
        "* display the item from the second row and the third column,\n",
        "\n",
        "$$\n",
        "A=\n",
        "\\begin{bmatrix}\n",
        "1 & 2 & 3 & 4 \\\\\n",
        "5 & 6 & 7 & 8 \\\\\n",
        "9 & 10 & 11 & 12 \\\\\n",
        "13 & 14 & 15 & 16\n",
        "\\end{bmatrix}\n",
        "$$"
      ],
      "metadata": {
        "id": "FquByg7fjLiz"
      }
    },
    {
      "cell_type": "code",
      "source": [
        "A = np.arange(1, 17).reshape(4, 4)\n",
        "A[:,3]"
      ],
      "metadata": {
        "id": "f8zQR07WfMwp",
        "colab": {
          "base_uri": "https://localhost:8080/"
        },
        "outputId": "e656dff6-8ea7-42b2-845b-0108ae38c332"
      },
      "execution_count": null,
      "outputs": [
        {
          "output_type": "execute_result",
          "data": {
            "text/plain": [
              "array([ 4,  8, 12, 16])"
            ]
          },
          "metadata": {},
          "execution_count": 15
        }
      ]
    },
    {
      "cell_type": "markdown",
      "source": [
        "### **<font color='#306998'>TASK </font><font color='#ffd33b'>1.8</font>**\n",
        "\n",
        "Print out all natural numbers less than 100 that are divisible by 11. Try not to use any iteration over loop."
      ],
      "metadata": {
        "id": "JzpVJoKJkwKE"
      }
    },
    {
      "cell_type": "code",
      "source": [
        "array = np.arange(11,100,11)\n",
        "print(array)"
      ],
      "metadata": {
        "id": "dQLSvtm4f2bE",
        "colab": {
          "base_uri": "https://localhost:8080/"
        },
        "outputId": "26ed9c4f-93bd-47b6-c241-0009c3a31202"
      },
      "execution_count": null,
      "outputs": [
        {
          "output_type": "stream",
          "name": "stdout",
          "text": [
            "[11 22 33 44 55 66 77 88 99]\n"
          ]
        }
      ]
    },
    {
      "cell_type": "markdown",
      "source": [
        "### **<font color='#306998'>TASK </font><font color='#ffd33b'>1.9</font>**\n",
        "\n",
        "Create a vector consisting of consecutive natural numbers: `6, 7, 8, ..., 35`. Change its shape in several ways."
      ],
      "metadata": {
        "id": "haHtEV39xWnC"
      }
    },
    {
      "cell_type": "code",
      "source": [
        "vector = np.arange(6, 36)\n",
        "print(vector)\n",
        "matrix_2x15 = vector.reshape(2,15)\n",
        "print(matrix_2x15)\n",
        "matrix_3x10 = vector.reshape(3, 10)\n",
        "print(matrix_3x10)\n",
        "matrix_5x6 = vector.reshape(5, 6)\n",
        "print(matrix_5x6)"
      ],
      "metadata": {
        "id": "v6S_0X0Hf4PD",
        "colab": {
          "base_uri": "https://localhost:8080/"
        },
        "outputId": "e1cf9709-be7c-49d3-ab27-d6ee7c2f15e3"
      },
      "execution_count": null,
      "outputs": [
        {
          "output_type": "stream",
          "name": "stdout",
          "text": [
            "[ 6  7  8  9 10 11 12 13 14 15 16 17 18 19 20 21 22 23 24 25 26 27 28 29\n",
            " 30 31 32 33 34 35]\n",
            "[[ 6  7  8  9 10 11 12 13 14 15 16 17 18 19 20]\n",
            " [21 22 23 24 25 26 27 28 29 30 31 32 33 34 35]]\n",
            "[[ 6  7  8  9 10 11 12 13 14 15]\n",
            " [16 17 18 19 20 21 22 23 24 25]\n",
            " [26 27 28 29 30 31 32 33 34 35]]\n",
            "[[ 6  7  8  9 10 11]\n",
            " [12 13 14 15 16 17]\n",
            " [18 19 20 21 22 23]\n",
            " [24 25 26 27 28 29]\n",
            " [30 31 32 33 34 35]]\n"
          ]
        }
      ]
    },
    {
      "cell_type": "markdown",
      "source": [
        "### **<font color='#306998'>TASK </font><font color='#ffd33b'>1.10</font>**\n",
        "\n",
        "Using `np.reshape()` method, create a `3x3` matrix with all integers from 51 to 59."
      ],
      "metadata": {
        "id": "OcPbqfhY5JOH"
      }
    },
    {
      "cell_type": "code",
      "source": [
        "array = np.arange(51, 60)\n",
        "print(array)\n",
        "matrix_3x3 = array.reshape(3, 3)\n",
        "print(matrix_3x3)"
      ],
      "metadata": {
        "id": "VWQROsb4gybL",
        "colab": {
          "base_uri": "https://localhost:8080/"
        },
        "outputId": "9b60a4d5-ad5d-41eb-ac64-d1fb0aa27932"
      },
      "execution_count": null,
      "outputs": [
        {
          "output_type": "stream",
          "name": "stdout",
          "text": [
            "[51 52 53 54 55 56 57 58 59]\n",
            "[[51 52 53]\n",
            " [54 55 56]\n",
            " [57 58 59]]\n"
          ]
        }
      ]
    },
    {
      "cell_type": "markdown",
      "source": [
        "<img src=\"https://drive.google.com/uc?export=view&id=141XOz6N4nk8Ru1sAl7vOsAToCLrSFCAX\" alt=\"SDA logo\" width=\"150\" align='right'/>\n",
        "<br>\n",
        "\n",
        "## Appendix: random numbers generators\n",
        "\n",
        "1. Randomly generated number(s) from normal (Gauss) distribution.\n",
        "```python\n",
        "np.random.normal()\n",
        "np.random.normal(size=6)\n",
        "```\n",
        "1. Randomly selected numbers from the uniform system.\n",
        "```python\n",
        "np.random.uniform(size=6)\n",
        "```\n",
        "1. Randomly selected number from a specific range.\n",
        "```python\n",
        "np.random.randint(3, 30, size=6)\n",
        "```\n",
        "1. Randomly selected floating-point number\n",
        "```python\n",
        "np.random.random()\n",
        "```"
      ],
      "metadata": {
        "id": "miJxoOkZ7c5y"
      }
    }
  ]
}