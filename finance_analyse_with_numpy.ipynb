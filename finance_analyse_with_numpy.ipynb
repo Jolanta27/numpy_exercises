{
  "nbformat": 4,
  "nbformat_minor": 0,
  "metadata": {
    "colab": {
      "provenance": [],
      "authorship_tag": "ABX9TyNCp1rhcx3lWOCuABYJIC3y",
      "include_colab_link": true
    },
    "kernelspec": {
      "name": "python3",
      "display_name": "Python 3"
    },
    "language_info": {
      "name": "python"
    }
  },
  "cells": [
    {
      "cell_type": "markdown",
      "metadata": {
        "id": "view-in-github",
        "colab_type": "text"
      },
      "source": [
        "<a href=\"https://colab.research.google.com/github/Jolanta27/numpy_exercises/blob/master/finance_analyse_with_numpy.ipynb\" target=\"_parent\"><img src=\"https://colab.research.google.com/assets/colab-badge.svg\" alt=\"Open In Colab\"/></a>"
      ]
    },
    {
      "cell_type": "code",
      "source": [
        "from google.colab import files\n",
        "uploaded = files.upload()"
      ],
      "metadata": {
        "colab": {
          "base_uri": "https://localhost:8080/",
          "height": 74
        },
        "id": "Qpffb5RPX4EN",
        "outputId": "d26276d0-f741-4193-df9d-f1f30a7a5acf"
      },
      "execution_count": 2,
      "outputs": [
        {
          "output_type": "display_data",
          "data": {
            "text/plain": [
              "<IPython.core.display.HTML object>"
            ],
            "text/html": [
              "\n",
              "     <input type=\"file\" id=\"files-136cc9db-0181-4f7f-9edc-35323120196b\" name=\"files[]\" multiple disabled\n",
              "        style=\"border:none\" />\n",
              "     <output id=\"result-136cc9db-0181-4f7f-9edc-35323120196b\">\n",
              "      Upload widget is only available when the cell has been executed in the\n",
              "      current browser session. Please rerun this cell to enable.\n",
              "      </output>\n",
              "      <script>// Copyright 2017 Google LLC\n",
              "//\n",
              "// Licensed under the Apache License, Version 2.0 (the \"License\");\n",
              "// you may not use this file except in compliance with the License.\n",
              "// You may obtain a copy of the License at\n",
              "//\n",
              "//      http://www.apache.org/licenses/LICENSE-2.0\n",
              "//\n",
              "// Unless required by applicable law or agreed to in writing, software\n",
              "// distributed under the License is distributed on an \"AS IS\" BASIS,\n",
              "// WITHOUT WARRANTIES OR CONDITIONS OF ANY KIND, either express or implied.\n",
              "// See the License for the specific language governing permissions and\n",
              "// limitations under the License.\n",
              "\n",
              "/**\n",
              " * @fileoverview Helpers for google.colab Python module.\n",
              " */\n",
              "(function(scope) {\n",
              "function span(text, styleAttributes = {}) {\n",
              "  const element = document.createElement('span');\n",
              "  element.textContent = text;\n",
              "  for (const key of Object.keys(styleAttributes)) {\n",
              "    element.style[key] = styleAttributes[key];\n",
              "  }\n",
              "  return element;\n",
              "}\n",
              "\n",
              "// Max number of bytes which will be uploaded at a time.\n",
              "const MAX_PAYLOAD_SIZE = 100 * 1024;\n",
              "\n",
              "function _uploadFiles(inputId, outputId) {\n",
              "  const steps = uploadFilesStep(inputId, outputId);\n",
              "  const outputElement = document.getElementById(outputId);\n",
              "  // Cache steps on the outputElement to make it available for the next call\n",
              "  // to uploadFilesContinue from Python.\n",
              "  outputElement.steps = steps;\n",
              "\n",
              "  return _uploadFilesContinue(outputId);\n",
              "}\n",
              "\n",
              "// This is roughly an async generator (not supported in the browser yet),\n",
              "// where there are multiple asynchronous steps and the Python side is going\n",
              "// to poll for completion of each step.\n",
              "// This uses a Promise to block the python side on completion of each step,\n",
              "// then passes the result of the previous step as the input to the next step.\n",
              "function _uploadFilesContinue(outputId) {\n",
              "  const outputElement = document.getElementById(outputId);\n",
              "  const steps = outputElement.steps;\n",
              "\n",
              "  const next = steps.next(outputElement.lastPromiseValue);\n",
              "  return Promise.resolve(next.value.promise).then((value) => {\n",
              "    // Cache the last promise value to make it available to the next\n",
              "    // step of the generator.\n",
              "    outputElement.lastPromiseValue = value;\n",
              "    return next.value.response;\n",
              "  });\n",
              "}\n",
              "\n",
              "/**\n",
              " * Generator function which is called between each async step of the upload\n",
              " * process.\n",
              " * @param {string} inputId Element ID of the input file picker element.\n",
              " * @param {string} outputId Element ID of the output display.\n",
              " * @return {!Iterable<!Object>} Iterable of next steps.\n",
              " */\n",
              "function* uploadFilesStep(inputId, outputId) {\n",
              "  const inputElement = document.getElementById(inputId);\n",
              "  inputElement.disabled = false;\n",
              "\n",
              "  const outputElement = document.getElementById(outputId);\n",
              "  outputElement.innerHTML = '';\n",
              "\n",
              "  const pickedPromise = new Promise((resolve) => {\n",
              "    inputElement.addEventListener('change', (e) => {\n",
              "      resolve(e.target.files);\n",
              "    });\n",
              "  });\n",
              "\n",
              "  const cancel = document.createElement('button');\n",
              "  inputElement.parentElement.appendChild(cancel);\n",
              "  cancel.textContent = 'Cancel upload';\n",
              "  const cancelPromise = new Promise((resolve) => {\n",
              "    cancel.onclick = () => {\n",
              "      resolve(null);\n",
              "    };\n",
              "  });\n",
              "\n",
              "  // Wait for the user to pick the files.\n",
              "  const files = yield {\n",
              "    promise: Promise.race([pickedPromise, cancelPromise]),\n",
              "    response: {\n",
              "      action: 'starting',\n",
              "    }\n",
              "  };\n",
              "\n",
              "  cancel.remove();\n",
              "\n",
              "  // Disable the input element since further picks are not allowed.\n",
              "  inputElement.disabled = true;\n",
              "\n",
              "  if (!files) {\n",
              "    return {\n",
              "      response: {\n",
              "        action: 'complete',\n",
              "      }\n",
              "    };\n",
              "  }\n",
              "\n",
              "  for (const file of files) {\n",
              "    const li = document.createElement('li');\n",
              "    li.append(span(file.name, {fontWeight: 'bold'}));\n",
              "    li.append(span(\n",
              "        `(${file.type || 'n/a'}) - ${file.size} bytes, ` +\n",
              "        `last modified: ${\n",
              "            file.lastModifiedDate ? file.lastModifiedDate.toLocaleDateString() :\n",
              "                                    'n/a'} - `));\n",
              "    const percent = span('0% done');\n",
              "    li.appendChild(percent);\n",
              "\n",
              "    outputElement.appendChild(li);\n",
              "\n",
              "    const fileDataPromise = new Promise((resolve) => {\n",
              "      const reader = new FileReader();\n",
              "      reader.onload = (e) => {\n",
              "        resolve(e.target.result);\n",
              "      };\n",
              "      reader.readAsArrayBuffer(file);\n",
              "    });\n",
              "    // Wait for the data to be ready.\n",
              "    let fileData = yield {\n",
              "      promise: fileDataPromise,\n",
              "      response: {\n",
              "        action: 'continue',\n",
              "      }\n",
              "    };\n",
              "\n",
              "    // Use a chunked sending to avoid message size limits. See b/62115660.\n",
              "    let position = 0;\n",
              "    do {\n",
              "      const length = Math.min(fileData.byteLength - position, MAX_PAYLOAD_SIZE);\n",
              "      const chunk = new Uint8Array(fileData, position, length);\n",
              "      position += length;\n",
              "\n",
              "      const base64 = btoa(String.fromCharCode.apply(null, chunk));\n",
              "      yield {\n",
              "        response: {\n",
              "          action: 'append',\n",
              "          file: file.name,\n",
              "          data: base64,\n",
              "        },\n",
              "      };\n",
              "\n",
              "      let percentDone = fileData.byteLength === 0 ?\n",
              "          100 :\n",
              "          Math.round((position / fileData.byteLength) * 100);\n",
              "      percent.textContent = `${percentDone}% done`;\n",
              "\n",
              "    } while (position < fileData.byteLength);\n",
              "  }\n",
              "\n",
              "  // All done.\n",
              "  yield {\n",
              "    response: {\n",
              "      action: 'complete',\n",
              "    }\n",
              "  };\n",
              "}\n",
              "\n",
              "scope.google = scope.google || {};\n",
              "scope.google.colab = scope.google.colab || {};\n",
              "scope.google.colab._files = {\n",
              "  _uploadFiles,\n",
              "  _uploadFilesContinue,\n",
              "};\n",
              "})(self);\n",
              "</script> "
            ]
          },
          "metadata": {}
        },
        {
          "output_type": "stream",
          "name": "stdout",
          "text": [
            "Saving financial_data.csv to financial_data.csv\n"
          ]
        }
      ]
    },
    {
      "cell_type": "code",
      "execution_count": 6,
      "metadata": {
        "colab": {
          "base_uri": "https://localhost:8080/"
        },
        "id": "tCPmGWAEWx-o",
        "outputId": "26b412b2-beec-4c43-a8cb-764d05480746"
      },
      "outputs": [
        {
          "output_type": "stream",
          "name": "stdout",
          "text": [
            "      Company Quarter  Revenue  Profit  Expenses\n",
            "0   Company A      Q1    25795    6555     19240\n",
            "1   Company A      Q2    10860    5385      5475\n",
            "2   Company A      Q3    48158    6117     42041\n",
            "3   Company A      Q4    21284    8396     12888\n",
            "4   Company B      Q1    16265    6843      9422\n",
            "5   Company B      Q2    26850    4904     21946\n",
            "6   Company B      Q3    47194    9728     37466\n",
            "7   Company B      Q4    31962    2474     29488\n",
            "8   Company C      Q1    26023    3082     22941\n",
            "9   Company C      Q2    11685    4558      7127\n",
            "10  Company C      Q3    10769    9849       920\n",
            "11  Company C      Q4    12433    4047      8386\n",
            "12  Company D      Q1    15311    9643      5668\n",
            "13  Company D      Q2    47819    4747     43072\n",
            "14  Company D      Q3    49188    2975     46213\n",
            "15  Company D      Q4    27568    3806     23762\n"
          ]
        }
      ],
      "source": [
        "import pandas as pd\n",
        "financial_data = pd.read_csv('financial_data.csv')\n",
        "print(financial_data)"
      ]
    },
    {
      "cell_type": "markdown",
      "source": [
        "2.Oblicz kluczowe wskaźniki finansowe, takie jak marża zysku (zysk/przychód) i wskaźnik wydatków (wydatki/przychód) dla każdej spółki i kwartału w celu oceny wyników finansowych.\n",
        "\n",
        "Marża zysku i wskaźnik kosztów dla każdej spółki i kwartału są obliczane przy użyciu NumPy"
      ],
      "metadata": {
        "id": "-kM-WVNBZeA_"
      }
    },
    {
      "cell_type": "code",
      "source": [
        "import numpy as np\n",
        "financial_data_np = financial_data[['Revenue', 'Profit', 'Expenses']].values\n",
        "revenue = 0\n",
        "profit = 1\n",
        "expenses = 2\n",
        "\n",
        "profit_margin = financial_data_np[:, profit] / financial_data_np[:, revenue]\n",
        "print(profit_margin)\n",
        "expenses_ratio = financial_data_np[:, expenses] / financial_data_np[:, revenue]\n",
        "print(expenses_ratio)"
      ],
      "metadata": {
        "colab": {
          "base_uri": "https://localhost:8080/"
        },
        "id": "aX3lSKS3ZnBL",
        "outputId": "1f9cbd53-8c04-4f03-a71f-09551a078256"
      },
      "execution_count": 14,
      "outputs": [
        {
          "output_type": "stream",
          "name": "stdout",
          "text": [
            "[0.25411902 0.49585635 0.12701939 0.39447472 0.42071934 0.18264432\n",
            " 0.2061279  0.07740442 0.11843369 0.39007274 0.9145696  0.32550471\n",
            " 0.62980863 0.09927016 0.06048223 0.13805862]\n",
            "[0.74588098 0.50414365 0.87298061 0.60552528 0.57928066 0.81735568\n",
            " 0.7938721  0.92259558 0.88156631 0.60992726 0.0854304  0.67449529\n",
            " 0.37019137 0.90072984 0.93951777 0.86194138]\n"
          ]
        }
      ]
    },
    {
      "cell_type": "markdown",
      "source": [
        "3.Zbadanie ewolucji przychodów w poszczególnych kwartałach w celu zidentyfikowania spółek o stałym wzroście przychodów. Zdefiniuj \"szybko rosnące\" spółki jako te, których kwartalne wzrosty przychodów przekraczają 10. percentyl.\n",
        "\n",
        "Zbadaj, jak ten wzrost różni się w poszczególnych kwartałach. Określ, które spółki wykazują wysoki wzrost w wielu kwartałach i policz je.\n",
        "\n",
        "Identyfikowane są spółki o wysokim wzroście przychodów"
      ],
      "metadata": {
        "id": "4yzbY4JVgWOq"
      }
    },
    {
      "cell_type": "code",
      "source": [
        "financial_data['Revenue Growth'] = financial_data.groupby('Company')['Revenue'].pct_change()\n",
        "print(financial_data)\n",
        "\n",
        "percentile_10 = financial_data['Revenue Growth'].quantile(0.10)\n",
        "print(percentile_10)\n",
        "fast_growing_companies = financial_data[financial_data['Revenue Growth'] > percentile_10]['Company'].unique()\n",
        "print(fast_growing_companies)\n",
        "num_fast_growing_companies = len(fast_growing_companies)\n",
        "print(num_fast_growing_companies)"
      ],
      "metadata": {
        "colab": {
          "base_uri": "https://localhost:8080/"
        },
        "id": "8YzYjVfMgb44",
        "outputId": "9e116644-2f43-4a80-8c4d-bf67f0464f50"
      },
      "execution_count": 24,
      "outputs": [
        {
          "output_type": "stream",
          "name": "stdout",
          "text": [
            "      Company Quarter  Revenue  Profit  Expenses  Revenue Growth\n",
            "0   Company A      Q1    25795    6555     19240             NaN\n",
            "1   Company A      Q2    10860    5385      5475       -0.578988\n",
            "2   Company A      Q3    48158    6117     42041        3.434438\n",
            "3   Company A      Q4    21284    8396     12888       -0.558038\n",
            "4   Company B      Q1    16265    6843      9422             NaN\n",
            "5   Company B      Q2    26850    4904     21946        0.650784\n",
            "6   Company B      Q3    47194    9728     37466        0.757691\n",
            "7   Company B      Q4    31962    2474     29488       -0.322753\n",
            "8   Company C      Q1    26023    3082     22941             NaN\n",
            "9   Company C      Q2    11685    4558      7127       -0.550974\n",
            "10  Company C      Q3    10769    9849       920       -0.078391\n",
            "11  Company C      Q4    12433    4047      8386        0.154518\n",
            "12  Company D      Q1    15311    9643      5668             NaN\n",
            "13  Company D      Q2    47819    4747     43072        2.123179\n",
            "14  Company D      Q3    49188    2975     46213        0.028629\n",
            "15  Company D      Q4    27568    3806     23762       -0.439538\n",
            "-0.5573317258823791\n",
            "['Company A' 'Company B' 'Company C' 'Company D']\n",
            "4\n"
          ]
        }
      ]
    },
    {
      "cell_type": "markdown",
      "source": [
        "4.Korzystając z obliczonych wskaźników finansowych i analizy wzrostu, zidentyfikuj i uszereguj potencjalne możliwości inwestycyjne w oparciu o kryteria, takie jak wysokie marże zysku i stały wzrost przychodów.\n",
        "\n",
        "Potencjalne możliwości inwestycyjne są identyfikowane i klasyfikowane w oparciu o kondycję finansową i perspektywy wzrostu"
      ],
      "metadata": {
        "id": "acg_jBc0ibGl"
      }
    },
    {
      "cell_type": "code",
      "source": [
        "\n",
        "financial_data['Profit Margin'] = financial_data['Profit'] / financial_data['Revenue']\n",
        "print(financial_data['Profit Margin'])\n",
        "\n",
        "financial_data['Revenue Growth'] = financial_data.groupby('Company')['Revenue'].pct_change()\n",
        "print(financial_data['Revenue Growth'])\n",
        "\n",
        "consistently_growing_companies = financial_data.groupby('Company').apply(lambda x: (x['Revenue Growth'] > 0).all())\n",
        "print(consistently_growing_companies)\n",
        "\n",
        "top_quartile_profit_margin = financial_data['Profit Margin'].quantile(0.75)\n",
        "print(top_quartile_profit_margin)\n",
        "\n",
        "financial_data['Score'] = ((financial_data['Profit Margin'] > top_quartile_profit_margin) & consistently_growing_companies).astype(int)\n",
        "print(financial_data['Score'])\n",
        "\n",
        "company_scores = financial_data.groupby('Company')['Score'].sum()\n",
        "print(company_scores)\n",
        "\n",
        "company_rankings = company_scores.sort_values(ascending=False)\n",
        "\n",
        "print(\"Company rankings:\")\n",
        "print(company_rankings)"
      ],
      "metadata": {
        "colab": {
          "base_uri": "https://localhost:8080/"
        },
        "id": "4uuI_MUTigVi",
        "outputId": "2827c0ec-37fe-4307-d419-4d8c7e2795ee"
      },
      "execution_count": 35,
      "outputs": [
        {
          "output_type": "stream",
          "name": "stdout",
          "text": [
            "0     0.254119\n",
            "1     0.495856\n",
            "2     0.127019\n",
            "3     0.394475\n",
            "4     0.420719\n",
            "5     0.182644\n",
            "6     0.206128\n",
            "7     0.077404\n",
            "8     0.118434\n",
            "9     0.390073\n",
            "10    0.914570\n",
            "11    0.325505\n",
            "12    0.629809\n",
            "13    0.099270\n",
            "14    0.060482\n",
            "15    0.138059\n",
            "Name: Profit Margin, dtype: float64\n",
            "0          NaN\n",
            "1    -0.578988\n",
            "2     3.434438\n",
            "3    -0.558038\n",
            "4          NaN\n",
            "5     0.650784\n",
            "6     0.757691\n",
            "7    -0.322753\n",
            "8          NaN\n",
            "9    -0.550974\n",
            "10   -0.078391\n",
            "11    0.154518\n",
            "12         NaN\n",
            "13    2.123179\n",
            "14    0.028629\n",
            "15   -0.439538\n",
            "Name: Revenue Growth, dtype: float64\n",
            "Company\n",
            "Company A    False\n",
            "Company B    False\n",
            "Company C    False\n",
            "Company D    False\n",
            "dtype: bool\n",
            "0.4010358760967353\n",
            "0     0\n",
            "1     0\n",
            "2     0\n",
            "3     0\n",
            "4     0\n",
            "5     0\n",
            "6     0\n",
            "7     0\n",
            "8     0\n",
            "9     0\n",
            "10    0\n",
            "11    0\n",
            "12    0\n",
            "13    0\n",
            "14    0\n",
            "15    0\n",
            "Name: Score, dtype: int64\n",
            "Company\n",
            "Company A    0\n",
            "Company B    0\n",
            "Company C    0\n",
            "Company D    0\n",
            "Name: Score, dtype: int64\n",
            "Company rankings:\n",
            "Company\n",
            "Company A    0\n",
            "Company B    0\n",
            "Company C    0\n",
            "Company D    0\n",
            "Name: Score, dtype: int64\n"
          ]
        }
      ]
    }
  ]
}