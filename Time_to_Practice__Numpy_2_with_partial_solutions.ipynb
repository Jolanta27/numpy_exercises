{
  "nbformat": 4,
  "nbformat_minor": 0,
  "metadata": {
    "colab": {
      "provenance": [],
      "include_colab_link": true
    },
    "kernelspec": {
      "name": "python3",
      "display_name": "Python 3"
    },
    "language_info": {
      "name": "python"
    }
  },
  "cells": [
    {
      "cell_type": "markdown",
      "metadata": {
        "id": "view-in-github",
        "colab_type": "text"
      },
      "source": [
        "<a href=\"https://colab.research.google.com/github/Jolanta27/numpy_exercises/blob/master/Time_to_Practice__Numpy_2_with_partial_solutions.ipynb\" target=\"_parent\"><img src=\"https://colab.research.google.com/assets/colab-badge.svg\" alt=\"Open In Colab\"/></a>"
      ]
    },
    {
      "cell_type": "markdown",
      "source": [
        "<img height=\"180px\" src=\"https://drive.google.com/uc?export=view&id=141XOz6N4nk8Ru1sAl7vOsAToCLrSFCAX\" alt=\"SDA logo\" align=\"left\" hspace=\"30px\" vspace=\"50px\"/>\n",
        "\n",
        "# Welcome to your next notebook with SDA!\n",
        "\n",
        "During the classes we will mostly use [Google Colaboratory](https://colab.research.google.com/?hl=en) which is a free Jupyter notebook environment that requires no setup and runs entirely in the cloud.\n",
        "\n",
        "However, for bigger projects, especially involving Deep Learning and/or big data reading, it might be a better choice to setup Jupyter Notebook or Jupyter Lab on your computer. Also, it is worth noticing that there is a great number of useful extensions (see [nbextensions](https://jupyter-contrib-nbextensions.readthedocs.io/en/latest/index.html) and [jupyter-labextension](https://jupyterlab.readthedocs.io/en/stable/user/extensions.html)) not available for Colab users."
      ],
      "metadata": {
        "id": "-XWt3nPFhENg"
      }
    },
    {
      "cell_type": "markdown",
      "source": [
        "<img src=\"https://drive.google.com/uc?export=view&id=1UO2urRciECzoKE_vHy4RMGfFbkOWOGlW\" alt=\"SDA logo\" align=\"left\" width=\"100px\" hspace=\"10px\" vspace=\"10px\"/>\n",
        "<br>\n",
        "\n",
        "# TASKS"
      ],
      "metadata": {
        "id": "_pi_0qQeiZ-0"
      }
    },
    {
      "cell_type": "markdown",
      "source": [
        "<img src=\"https://drive.google.com/uc?export=view&id=141XOz6N4nk8Ru1sAl7vOsAToCLrSFCAX\" alt=\"SDA logo\" width=\"150\" align='right'/>\n",
        "<br>\n",
        "\n",
        "## Linear Algebra"
      ],
      "metadata": {
        "id": "rzZ3BUSfijKe"
      }
    },
    {
      "cell_type": "markdown",
      "source": [
        "### Please make sure that **<font color='#306998'>TASKS </font><font color='#ffd33b'>1.1 - 1.10</font>** and **<font color='#306998'>TASKS </font><font color='#ffd33b'>1.10 - 1.24</font>** are already completed :)"
      ],
      "metadata": {
        "id": "2SAWPPl8ipUl"
      }
    },
    {
      "cell_type": "markdown",
      "source": [
        "### **<font color='#306998'>TASK </font><font color='#ffd33b'>1.25</font>**\n",
        "\n",
        "For the matrix from task 1.7:\n",
        "* calculate its determinant,\n",
        "* find inverse matrix.\n",
        "\n",
        "$$\n",
        "A=\n",
        "\\begin{bmatrix}\n",
        "1 & 2 & 3 & 4 \\\\\n",
        "5 & 6 & 7 & 8 \\\\\n",
        "9 & 10 & 11 & 12 \\\\\n",
        "13 & 14 & 15 & 16\n",
        "\\end{bmatrix}\n",
        "$$"
      ],
      "metadata": {
        "id": "FquByg7fjLiz"
      }
    },
    {
      "cell_type": "code",
      "source": [
        "import numpy as np"
      ],
      "metadata": {
        "id": "-J54TJx52f_7"
      },
      "execution_count": null,
      "outputs": []
    },
    {
      "cell_type": "code",
      "source": [
        "A = np.arange(1, 17).reshape(4, 4)\n",
        "det_A = np.linalg.det(A)\n",
        "print(f\"Determinant of A:, {det_A}\")"
      ],
      "metadata": {
        "colab": {
          "base_uri": "https://localhost:8080/"
        },
        "id": "S1rML_dOTCLK",
        "outputId": "dc285d38-a6fc-4e26-deec-9130cadb1a2d"
      },
      "execution_count": null,
      "outputs": [
        {
          "output_type": "stream",
          "name": "stdout",
          "text": [
            "Determinant of A:, 0.0\n"
          ]
        }
      ]
    },
    {
      "cell_type": "code",
      "source": [
        "try:\n",
        "  inv_A = np.linalg.inv(A)\n",
        "  print(f\"Inverse of A: \\n{inv_A}\")\n",
        "except np.linalg.LinAlgError:\n",
        "  print(\"Matrix A is singular, it does not have an inverse.\")\n"
      ],
      "metadata": {
        "colab": {
          "base_uri": "https://localhost:8080/"
        },
        "id": "gVaFxJu7TIQ_",
        "outputId": "1006d6c6-87c7-4377-982e-ab11de7d3aa2"
      },
      "execution_count": 48,
      "outputs": [
        {
          "output_type": "stream",
          "name": "stdout",
          "text": [
            "Inverse of A: \n",
            "[[-0.66666667  0.33333333]\n",
            " [-1.16666667  0.83333333]]\n"
          ]
        }
      ]
    },
    {
      "cell_type": "markdown",
      "source": [
        "Next, change the last value to 0:"
      ],
      "metadata": {
        "id": "4RwWHLhjTsyi"
      }
    },
    {
      "cell_type": "code",
      "source": [
        "B = A.copy()\n",
        "B[-1, -1] = 0\n",
        "# B.flat[-1] = 0\n",
        "\n",
        "B"
      ],
      "metadata": {
        "colab": {
          "base_uri": "https://localhost:8080/"
        },
        "id": "dzUGAd7PT_gD",
        "outputId": "d2676b76-af23-4d52-f8a8-ce3ba6eabb21"
      },
      "execution_count": null,
      "outputs": [
        {
          "output_type": "execute_result",
          "data": {
            "text/plain": [
              "array([[ 1,  2,  3,  4],\n",
              "       [ 5,  6,  7,  8],\n",
              "       [ 9, 10, 11, 12],\n",
              "       [13, 14, 15,  0]])"
            ]
          },
          "metadata": {},
          "execution_count": 9
        }
      ]
    },
    {
      "cell_type": "code",
      "source": [
        "np.linalg.det(B), np.linalg.inv(B)"
      ],
      "metadata": {
        "colab": {
          "base_uri": "https://localhost:8080/"
        },
        "id": "owzyt372TqWH",
        "outputId": "c71da82a-f824-48d7-dd26-879062cf3eff"
      },
      "execution_count": null,
      "outputs": [
        {
          "output_type": "execute_result",
          "data": {
            "text/plain": [
              "(-2.273736754432328e-13,\n",
              " array([[-2.81474977e+14,  5.62949953e+14, -2.81474977e+14,\n",
              "         -6.25000000e-02],\n",
              "        [ 5.62949953e+14, -1.12589991e+15,  5.62949953e+14,\n",
              "          6.25000000e-02],\n",
              "        [-2.81474977e+14,  5.62949953e+14, -2.81474977e+14,\n",
              "          6.25000000e-02],\n",
              "        [-7.81250000e-02,  9.37500000e-02,  4.68750000e-02,\n",
              "         -6.25000000e-02]]))"
            ]
          },
          "metadata": {},
          "execution_count": 10
        }
      ]
    },
    {
      "cell_type": "code",
      "source": [
        "np.matmul(B, np.linalg.inv(B))"
      ],
      "metadata": {
        "colab": {
          "base_uri": "https://localhost:8080/"
        },
        "id": "Eb5wFx9TUeBo",
        "outputId": "a1075546-5e21-4bac-d2d7-1ad5b78c9ba0"
      },
      "execution_count": null,
      "outputs": [
        {
          "output_type": "execute_result",
          "data": {
            "text/plain": [
              "array([[ 0.96875,  0.0625 ,  0.0625 ,  0.     ],\n",
              "       [ 0.03125,  0.4375 ,  0.25   ,  0.     ],\n",
              "       [-0.90625,  1.0625 ,  0.1875 ,  0.     ],\n",
              "       [-0.59375,  0.1875 ,  0.125  ,  1.     ]])"
            ]
          },
          "metadata": {},
          "execution_count": 11
        }
      ]
    },
    {
      "cell_type": "code",
      "source": [
        "np.round(np.matmul(B, np.linalg.inv(B)), 5)"
      ],
      "metadata": {
        "colab": {
          "base_uri": "https://localhost:8080/"
        },
        "id": "L0QhPC9nVgRf",
        "outputId": "3871a4e5-56ff-41f2-a7e9-98ea53d93894"
      },
      "execution_count": null,
      "outputs": [
        {
          "output_type": "execute_result",
          "data": {
            "text/plain": [
              "array([[ 0.96875,  0.0625 ,  0.0625 ,  0.     ],\n",
              "       [ 0.03125,  0.4375 ,  0.25   ,  0.     ],\n",
              "       [-0.90625,  1.0625 ,  0.1875 ,  0.     ],\n",
              "       [-0.59375,  0.1875 ,  0.125  ,  1.     ]])"
            ]
          },
          "metadata": {},
          "execution_count": 12
        }
      ]
    },
    {
      "cell_type": "markdown",
      "source": [
        "... and try with differnt matrix:\n",
        "\n",
        "$$\n",
        "C=\n",
        "\\begin{bmatrix}\n",
        "3 & 2 & -1 & 1 \\\\\n",
        "1 & 0 & 1 & 2 \\\\\n",
        "2 & 1 & 1 & -1 \\\\\n",
        "1 & 1 & 1 & 0\n",
        "\\end{bmatrix}\n",
        "$$"
      ],
      "metadata": {
        "id": "ESJ77lr8Vm83"
      }
    },
    {
      "cell_type": "code",
      "source": [
        "C = np.array([[3,2,-1,1], [1,0,1,2], [2,1,1,-1], [1,1,1,0]])\n",
        "C"
      ],
      "metadata": {
        "colab": {
          "base_uri": "https://localhost:8080/"
        },
        "id": "PBq8jHMxVK0U",
        "outputId": "14b7f72a-2908-451d-d7a2-937e07e5bfcb"
      },
      "execution_count": null,
      "outputs": [
        {
          "output_type": "execute_result",
          "data": {
            "text/plain": [
              "array([[ 3,  2, -1,  1],\n",
              "       [ 1,  0,  1,  2],\n",
              "       [ 2,  1,  1, -1],\n",
              "       [ 1,  1,  1,  0]])"
            ]
          },
          "metadata": {},
          "execution_count": 13
        }
      ]
    },
    {
      "cell_type": "code",
      "source": [
        "np.round(np.matmul(C, np.linalg.inv(C)))"
      ],
      "metadata": {
        "colab": {
          "base_uri": "https://localhost:8080/"
        },
        "id": "q99P1sSfVSeh",
        "outputId": "202b9311-473d-429f-eb81-3a500cb5ff29"
      },
      "execution_count": null,
      "outputs": [
        {
          "output_type": "execute_result",
          "data": {
            "text/plain": [
              "array([[ 1.,  0.,  0., -0.],\n",
              "       [-0.,  1.,  0.,  0.],\n",
              "       [-0.,  0.,  1.,  0.],\n",
              "       [ 0.,  0., -0.,  1.]])"
            ]
          },
          "metadata": {},
          "execution_count": 15
        }
      ]
    },
    {
      "cell_type": "markdown",
      "source": [
        "**<font color='#ed7d31'>SOLVING SYSTEMS OF LINEAR EQUATIONS</font>**\n",
        "\n",
        "There are a few methods to solve systems of linear equations at a *school-level* mathematics. Although they are very effective they can require a lot of time and work, and can be especially difficult to apply to a larger number of variables. See, how you can address it with Linear Algebra.\n",
        "\n",
        "Let's consider the following system of equations:\n",
        "$$\n",
        "\\begin{cases}\n",
        "    x_1 + x_2 = 4\\\\\n",
        "    2x_1 - x_2 = 5\n",
        "\\end{cases}\n",
        "$$\n",
        "it can be written as $Ax = y,$ where\n",
        "$$\n",
        "x=\\begin{bmatrix}\n",
        "    x_1 \\\\\n",
        "    x_2\n",
        "\\end{bmatrix},\n",
        "y=\\begin{bmatrix}\n",
        "    y_1 \\\\\n",
        "    y_2\n",
        "\\end{bmatrix}=\n",
        "\\begin{bmatrix}\n",
        "    4 \\\\\n",
        "    5\n",
        "\\end{bmatrix},\n",
        "$$and\n",
        "$$\n",
        "A=\\begin{bmatrix}\n",
        "1 & 1\\\\\n",
        "2 & -1\n",
        "\\end{bmatrix}.\n",
        "$$\n",
        "If an inverse matrix $A^{-1}$ exists, you can easily solve the equation by multiplying both sides by it from the left side:\n",
        "$$\n",
        "Ax=y \\\\\n",
        "x=Ix=A^{-1} Ax=A^{-1} y\n",
        "$$\n",
        "\n",
        "\n",
        "### **<font color='#306998'>TASK </font><font color='#ffd33b'>1.26</font>**\n",
        "\n",
        "Solve the system of equations mentioned above.\n",
        "\n",
        "*Correct answer: $$x = (x_1, x_2) = (3, 1).$$*\n",
        "\n",
        "*Hint: There are functioned defined within NumPy package for both of these tasks; matrix inverse & mathematical multiplication of two matrices.*"
      ],
      "metadata": {
        "id": "6s2dqsOMYsqn"
      }
    },
    {
      "cell_type": "code",
      "source": [
        "A = np.array([[1, 1], [1, -1]])\n",
        "y = np.array([4, 5])"
      ],
      "metadata": {
        "id": "EEllYRWDSeXE"
      },
      "execution_count": null,
      "outputs": []
    },
    {
      "cell_type": "code",
      "source": [
        "A_inv = np.linalg.inv(A)\n",
        "A_inv"
      ],
      "metadata": {
        "colab": {
          "base_uri": "https://localhost:8080/"
        },
        "id": "4rYQ2SMoW45S",
        "outputId": "9df94bce-8f52-4080-990d-58d31db3c308"
      },
      "execution_count": null,
      "outputs": [
        {
          "output_type": "execute_result",
          "data": {
            "text/plain": [
              "array([[ 0.5,  0.5],\n",
              "       [ 0.5, -0.5]])"
            ]
          },
          "metadata": {},
          "execution_count": 27
        }
      ]
    },
    {
      "cell_type": "code",
      "source": [
        "x = np.dot(A_inv, y)\n",
        "print(f\"The solution is: x1 = {x[0]}, x2 = {x[1]}\")"
      ],
      "metadata": {
        "colab": {
          "base_uri": "https://localhost:8080/"
        },
        "id": "rOjwSrDqW83W",
        "outputId": "c14d961f-feb9-4180-ae32-1eb24085fae0"
      },
      "execution_count": null,
      "outputs": [
        {
          "output_type": "stream",
          "name": "stdout",
          "text": [
            "The solution is: x1 = 4.5, x2 = -0.5\n"
          ]
        }
      ]
    },
    {
      "cell_type": "markdown",
      "source": [
        "The systems below were copied from: [Lumen: College Algebra](https://courses.lumenlearning.com/wmopen-collegealgebra/chapter/introduction-systems-of-linear-equations-three-variables/).\n",
        "\n",
        "### **<font color='#306998'>TASK </font><font color='#ffd33b'>1.27</font>**\n",
        "\n",
        "What is the solution to the system of equations below?\n",
        "\\begin{cases}\n",
        "    x_1 - 2x_2+3x_3 = 9\\\\\n",
        "    -x_1 +3x_2- x_3 = -6\\\\\n",
        "    2x_1-5x_2+5x_3=17\n",
        "\\end{cases}\n",
        "\n",
        "*Correct answer: $$x = (x_1, x_2, x_3) = (1, -1, 2).$$*"
      ],
      "metadata": {
        "id": "m9qpsjzJ8RNv"
      }
    },
    {
      "cell_type": "code",
      "source": [
        "import numpy as np\n",
        "A = np.array([[1, -2, 3], [-1, 3, -1], [2, -5, 5]])\n",
        "y = np.array([9, -6, 17])\n",
        "\n",
        "x = np.linalg.solve(A, y)\n",
        "\n",
        "print(f\"The solution is: x1 = {x[0]}, x2 = {x[1]}, x3 = {x[2]}\")"
      ],
      "metadata": {
        "id": "3F-VVUtCSgTA",
        "colab": {
          "base_uri": "https://localhost:8080/"
        },
        "outputId": "2771574d-233f-4049-b4af-5a5718fa680f"
      },
      "execution_count": null,
      "outputs": [
        {
          "output_type": "stream",
          "name": "stdout",
          "text": [
            "The solution is: x1 = 1.0, x2 = -1.0, x3 = 2.0\n"
          ]
        }
      ]
    },
    {
      "cell_type": "markdown",
      "source": [
        "### **<font color='#306998'>TASK </font><font color='#ffd33b'>1.28</font>**\n",
        "\n",
        "Solve the system of equations in three variables:\n",
        "\\begin{cases}\n",
        "    2x_1 + x_2 - 2x_3 = -1\\\\\n",
        "    3x_1 - 3x_2 - x_3 = 5\\\\\n",
        "    x_1 - 2x_2 + 3x_3 = 6\n",
        "\\end{cases}\n",
        "\n",
        "*Correct answer: $$x = (x_1, x_2, x_3) = (-2, 1, 1).$$*"
      ],
      "metadata": {
        "id": "ZfqOKRMJ-Ns8"
      }
    },
    {
      "cell_type": "code",
      "source": [
        "import numpy as np\n",
        "A = np.array([[2, 1, -2], [3, -3, -1], [1, -2, 3]])\n",
        "y = np.array([-1, 5, 6])\n",
        "\n",
        "x = np.linalg.solve(A, y)\n",
        "print(f\"The solution is: x1: {x[0]}, x2: {x[1]}, x3: {x[2]}\")"
      ],
      "metadata": {
        "id": "sS_5AAj5Shdz",
        "colab": {
          "base_uri": "https://localhost:8080/"
        },
        "outputId": "b1389e3c-e224-453e-e3c4-c104d6a7e58a"
      },
      "execution_count": null,
      "outputs": [
        {
          "output_type": "stream",
          "name": "stdout",
          "text": [
            "The solution is: x1: 1.0000000000000002, x2: -0.9999999999999997, x3: 1.0000000000000002\n"
          ]
        }
      ]
    },
    {
      "cell_type": "markdown",
      "source": [
        "### **<font color='#306998'>TASK </font><font color='#ffd33b'>1.28</font>**\n",
        "\n",
        "Determine whether the triple $x = (x_1, x_2, x_3) = (3, -2, 1)$ is a solution to the system:\n",
        "\n",
        "\\begin{cases}\n",
        "    x_1 + x_2 + x_3 = 2\\\\\n",
        "    6x_1 - 4x_2 + 5x_3 = 31\\\\\n",
        "    5x_1 + 2x_2 + 2x_3 = 13.\n",
        "\\end{cases}\n",
        "\n",
        "*Correct answer: yes, it is.*"
      ],
      "metadata": {
        "id": "UtNQriAT-4_L"
      }
    },
    {
      "cell_type": "code",
      "source": [
        "x1, x2, x3 = 3, -2, 1\n",
        "\n",
        "eq1 = x1 + x2 + x3 == 2\n",
        "eq2 = 6*x1 - 4*x2 + 5*x3 == 31\n",
        "eq3 = 5*x1 + 2*x2 + 2*x3 == 13\n",
        "\n",
        "solution = eq1 and eq2 and eq3\n",
        "print(f\"The triple (x1, x2, x3) = (3, -2, 1) is a solution to the system: {solution}\")"
      ],
      "metadata": {
        "id": "rrlnxu9ESizf",
        "colab": {
          "base_uri": "https://localhost:8080/"
        },
        "outputId": "cdd1f464-6be3-4285-b7b7-517940af6084"
      },
      "execution_count": null,
      "outputs": [
        {
          "output_type": "stream",
          "name": "stdout",
          "text": [
            "The triple (x1, x2, x3) = (3, -2, 1) is a solution to the system: True\n"
          ]
        }
      ]
    },
    {
      "cell_type": "markdown",
      "source": [
        "### **<font color='#306998'>TASK </font><font color='#ffd33b'>1.29</font>**\n",
        "\n",
        "Check whether the system solution exists:\n",
        "\n",
        "\\begin{cases}\n",
        "    x_1 - 3x_2 + x_3 = 4\\\\\n",
        "    -x_1 + 2x_2 - 5x_3 = 3\\\\\n",
        "    5x_1 - 13x_2 + 13x_3 = 8.\n",
        "\\end{cases}\n",
        "\n",
        "*Correct answer: no, it does not.*\n",
        "\n",
        "*Hint: matrix is not full-rank, i.e $rank(A) = 2 \\neq 3.$*"
      ],
      "metadata": {
        "id": "hLv_0aobBLGw"
      }
    },
    {
      "cell_type": "code",
      "source": [
        "A = np.array([[1, -3, 1], [-1, 2, -5], [5, -13, 13]])\n",
        "rank_A = np.linalg.matrix_rank(A)\n",
        "solution_exists = rank_A == A.shape[1]\n",
        "print(f\"If the system solution exist: {solution_exists}\")"
      ],
      "metadata": {
        "id": "tna3iDXBSkCq",
        "colab": {
          "base_uri": "https://localhost:8080/"
        },
        "outputId": "f2f0273d-f11e-49a7-a206-61c57cca6a37"
      },
      "execution_count": null,
      "outputs": [
        {
          "output_type": "stream",
          "name": "stdout",
          "text": [
            "If the system solution exist: False\n"
          ]
        }
      ]
    },
    {
      "cell_type": "markdown",
      "source": [
        "### **<font color='#306998'>TASK </font><font color='#ffd33b'>1.30</font>** (optional)\n",
        "\n",
        "Find eigenvalues and eigenvectors associated with them for the following matrices:\n",
        "* $\n",
        "A_1=\\begin{bmatrix}\n",
        "-5 & 2\\\\\n",
        "-7 & 4\n",
        "\\end{bmatrix}\n",
        "$\n",
        "\n",
        "* $\n",
        "A_2=\\begin{bmatrix}\n",
        "1 & 0\\\\\n",
        "0 & -3\n",
        "\\end{bmatrix}\n",
        "$\n",
        "\n",
        "* $\n",
        "A_3=\\begin{bmatrix}\n",
        "5 & -10 & -5\\\\\n",
        "2 & 14 & 2\\\\\n",
        "-4 & -8 & 6\n",
        "\\end{bmatrix}\n",
        "$\n",
        "\n",
        "* $\n",
        "A_4=\\begin{bmatrix}\n",
        "1 & -1 & 2\\\\\n",
        "1 & 0 & -1\\\\\n",
        "1 & 1 & 2\n",
        "\\end{bmatrix}\n",
        "$\n",
        "\n",
        "Solutions can be complex numbers, $z\\in\\mathbb{C}$, as for $A_4$."
      ],
      "metadata": {
        "id": "_dhzD0xeezBG"
      }
    },
    {
      "cell_type": "code",
      "source": [
        "A = np.array([[-5, 2], [-7, 4]])\n",
        "eigvals_A1, eigvecs_A1 = np.linalg.eig(A)\n",
        "A2 = np.array([[1, 0], [0, -3]])\n",
        "eigvals_A2, eigvecs_A2 = np.linalg.eig(A2)\n",
        "A3 = np.array([[5, -10, -5], [2, 14, 2], [-4, -8, 6]])\n",
        "eigvals_A3, eigvecs_A3 = np.linalg.eig(A3)\n",
        "A4 = np.array([[1, -1, 2], [1, 0, -1], [1, 1, 2]])\n",
        "eigvals_A4, eigvecs_A4 = np.linalg.eig(A4)\n",
        "print(f\"For A1, the eigenvalues are {eigvals_A1} and the corresponding eigenvectors are {eigvecs_A1}\")\n",
        "print(f\"For A2, the eigenvalues are {eigvals_A2} and the corresponding eigenvectors are {eigvecs_A2}\")\n",
        "print(f\"For A3, the eigenvalues are {eigvals_A3} and the corresponding eigenvectors are {eigvecs_A3}\")\n",
        "print(f\"For A4, the eigenvalues are {eigvals_A4} and the corresponding eigenvectors are {eigvecs_A4}\")\n"
      ],
      "metadata": {
        "id": "rFqC7lp2SnGe",
        "colab": {
          "base_uri": "https://localhost:8080/"
        },
        "outputId": "cb631dc4-430d-4411-aaed-8e496997f25f"
      },
      "execution_count": null,
      "outputs": [
        {
          "output_type": "stream",
          "name": "stdout",
          "text": [
            "For A1, the eigenvalues are [-3.  2.] and the corresponding eigenvectors are [[-0.70710678 -0.27472113]\n",
            " [-0.70710678 -0.96152395]]\n",
            "For A2, the eigenvalues are [ 1. -3.] and the corresponding eigenvectors are [[1. 0.]\n",
            " [0. 1.]]\n",
            "For A3, the eigenvalues are [ 5. 10. 10.] and the corresponding eigenvectors are [[ 7.45355992e-01  7.44760246e-16 -5.22799043e-01]\n",
            " [-2.98142397e-01 -4.47213595e-01  5.75730417e-01]\n",
            " [ 5.96284794e-01  8.94427191e-01 -6.28661791e-01]]\n",
            "For A4, the eigenvalues are [3.00000000e+00+0.j         1.38777878e-16+1.41421356j\n",
            " 1.38777878e-16-1.41421356j] and the corresponding eigenvectors are [[-7.07106781e-01+0.j         -6.28694613e-02+0.62237591j\n",
            "  -6.28694613e-02-0.62237591j]\n",
            " [-3.76172481e-19+0.j          6.91564075e-01+0.j\n",
            "   6.91564075e-01-0.j        ]\n",
            " [-7.07106781e-01+0.j         -6.28694613e-02-0.35564338j\n",
            "  -6.28694613e-02+0.35564338j]]\n"
          ]
        }
      ]
    },
    {
      "cell_type": "code",
      "source": [],
      "metadata": {
        "id": "0GMM7OlfXV0c"
      },
      "execution_count": null,
      "outputs": []
    },
    {
      "cell_type": "markdown",
      "source": [
        "<img src=\"https://drive.google.com/uc?export=view&id=141XOz6N4nk8Ru1sAl7vOsAToCLrSFCAX\" alt=\"SDA logo\" width=\"150\" align='right'/>\n",
        "<br>\n",
        "\n",
        "## Appendix: random numbers generators\n",
        "\n",
        "1. Randomly generated number(s) from normal (Gauss) distribution.\n",
        "```python\n",
        "np.random.normal()\n",
        "np.random.normal(size=6)\n",
        "```\n",
        "1. Randomly selected numbers from the uniform system.\n",
        "```python\n",
        "np.random.uniform(size=6)\n",
        "```\n",
        "1. Randomly selected number from a specific range.\n",
        "```python\n",
        "np.random.randint(3, 30, size=6)\n",
        "```\n",
        "1. Randomly selected floating-point number\n",
        "```python\n",
        "np.random.random()\n",
        "```"
      ],
      "metadata": {
        "id": "miJxoOkZ7c5y"
      }
    }
  ]
}