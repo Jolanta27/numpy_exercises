{
  "nbformat": 4,
  "nbformat_minor": 0,
  "metadata": {
    "colab": {
      "provenance": [],
      "authorship_tag": "ABX9TyM2oHGHPkEtGqmHFQBAJMAh",
      "include_colab_link": true
    },
    "kernelspec": {
      "name": "python3",
      "display_name": "Python 3"
    },
    "language_info": {
      "name": "python"
    }
  },
  "cells": [
    {
      "cell_type": "markdown",
      "metadata": {
        "id": "view-in-github",
        "colab_type": "text"
      },
      "source": [
        "<a href=\"https://colab.research.google.com/github/Jolanta27/numpy_exercises/blob/master/numpy_rozgrzewka.ipynb\" target=\"_parent\"><img src=\"https://colab.research.google.com/assets/colab-badge.svg\" alt=\"Open In Colab\"/></a>"
      ]
    },
    {
      "cell_type": "markdown",
      "source": [
        "1. Utwórz trójwymiarową tablicę z jedynkami na przekątnej i zerami w innych miejscach"
      ],
      "metadata": {
        "id": "-J8_cg6p_gIk"
      }
    },
    {
      "cell_type": "code",
      "execution_count": null,
      "metadata": {
        "colab": {
          "base_uri": "https://localhost:8080/"
        },
        "id": "QcxlYNlH_fLQ",
        "outputId": "6d5f8994-4387-4fc2-9442-bb7ee527471d"
      },
      "outputs": [
        {
          "output_type": "stream",
          "name": "stdout",
          "text": [
            "[[1 0 0]\n",
            " [0 1 0]\n",
            " [0 0 1]]\n",
            "[[1. 0. 0.]\n",
            " [0. 1. 0.]\n",
            " [0. 0. 1.]]\n"
          ]
        }
      ],
      "source": [
        "import numpy as np\n",
        "array = np.array([[1, 0, 0], [0, 1, 0], [0, 0, 1]])\n",
        "print(array)\n",
        "\n",
        "I = np.eye(3)\n",
        "print(I)"
      ]
    },
    {
      "cell_type": "markdown",
      "source": [
        "2. Utwórz tablicę liczb 3x2 wypełnioną jedynkami."
      ],
      "metadata": {
        "id": "o5YWaqoUAPEf"
      }
    },
    {
      "cell_type": "code",
      "source": [
        "import numpy as np\n",
        "array = np.array([[1, 1], [1, 1], [1, 1]])\n",
        "print(array)\n",
        "\n",
        "ones_array = np.ones((3, 2))\n",
        "print(ones_array)"
      ],
      "metadata": {
        "colab": {
          "base_uri": "https://localhost:8080/"
        },
        "id": "-B_I02hqAXM7",
        "outputId": "975998dc-cbff-4abf-94d7-1163cde5870f"
      },
      "execution_count": null,
      "outputs": [
        {
          "output_type": "stream",
          "name": "stdout",
          "text": [
            "[[1 1]\n",
            " [1 1]\n",
            " [1 1]]\n",
            "[[1. 1.]\n",
            " [1. 1.]\n",
            " [1. 1.]]\n"
          ]
        }
      ]
    },
    {
      "cell_type": "markdown",
      "source": [
        "3. Utwórz macierz o kształcie 2x5, wypełnioną szóstkami.\n"
      ],
      "metadata": {
        "id": "VHhTYh-1A6KG"
      }
    },
    {
      "cell_type": "code",
      "source": [
        "import numpy as np\n",
        "matrix = np.full((2, 5), 6)\n",
        "print(matrix)"
      ],
      "metadata": {
        "colab": {
          "base_uri": "https://localhost:8080/"
        },
        "id": "Zxbnz3ROBAq5",
        "outputId": "0f474432-d2aa-446a-fab8-d29df0bbcb57"
      },
      "execution_count": null,
      "outputs": [
        {
          "output_type": "stream",
          "name": "stdout",
          "text": [
            "[[6 6 6 6 6]\n",
            " [6 6 6 6 6]]\n"
          ]
        }
      ]
    },
    {
      "cell_type": "markdown",
      "source": [
        "4. Create an array of 5, 13, 21, 29, ..., 101"
      ],
      "metadata": {
        "id": "QTZ_wm_gBdtF"
      }
    },
    {
      "cell_type": "code",
      "source": [
        "import numpy as np\n",
        "array = np.arange(5, 102, 8)\n",
        "print(array)"
      ],
      "metadata": {
        "colab": {
          "base_uri": "https://localhost:8080/"
        },
        "id": "iajzeoa8Bjhm",
        "outputId": "63f46328-9f9d-4c81-f81a-2ae5f6a506aa"
      },
      "execution_count": null,
      "outputs": [
        {
          "output_type": "stream",
          "name": "stdout",
          "text": [
            "[  5  13  21  29  37  45  53  61  69  77  85  93 101]\n"
          ]
        }
      ]
    },
    {
      "cell_type": "markdown",
      "source": [
        "5. Utwórz tablicę 1-D składającą się z 20 równomiernie rozmieszczonych elementów w przedziale od 7. do 12. włącznie."
      ],
      "metadata": {
        "id": "WnotVot5B8-9"
      }
    },
    {
      "cell_type": "code",
      "source": [
        "import numpy as np\n",
        "array = np.linspace(7, 12, 20)\n",
        "print(array)"
      ],
      "metadata": {
        "colab": {
          "base_uri": "https://localhost:8080/"
        },
        "id": "DH7L07KoCC_P",
        "outputId": "c3fb71b6-4e39-45c1-89c0-d95310e6b546"
      },
      "execution_count": null,
      "outputs": [
        {
          "output_type": "stream",
          "name": "stdout",
          "text": [
            "[ 7.          7.26315789  7.52631579  7.78947368  8.05263158  8.31578947\n",
            "  8.57894737  8.84210526  9.10526316  9.36842105  9.63157895  9.89473684\n",
            " 10.15789474 10.42105263 10.68421053 10.94736842 11.21052632 11.47368421\n",
            " 11.73684211 12.        ]\n"
          ]
        }
      ]
    },
    {
      "cell_type": "markdown",
      "source": [
        "6. Utwórz dwuwymiarową tablicę (4x4), której przekątna jest równa [1, 2, 3, 4] i zawiera 0 w innych miejscach"
      ],
      "metadata": {
        "id": "_fNPmVyOCYnn"
      }
    },
    {
      "cell_type": "code",
      "source": [
        "import numpy as np\n",
        "array = np.diag([1, 2, 3, 4])\n",
        "print(array)"
      ],
      "metadata": {
        "colab": {
          "base_uri": "https://localhost:8080/"
        },
        "id": "NktwcnFaCp8B",
        "outputId": "be041fde-d321-46ed-c351-3671a827b4db"
      },
      "execution_count": null,
      "outputs": [
        {
          "output_type": "stream",
          "name": "stdout",
          "text": [
            "[[1 0 0 0]\n",
            " [0 2 0 0]\n",
            " [0 0 3 0]\n",
            " [0 0 0 4]]\n"
          ]
        }
      ]
    },
    {
      "cell_type": "markdown",
      "source": [
        "7. Niech x będzie macierzą o następujących wymiarach [10, 10, 3] i niech wszystkie jej elementy będą równe jeden. Następnie przekształć x tak, aby tworzył macierz (2Darray), a rozmiar drugiego wymiaru był równy 150."
      ],
      "metadata": {
        "id": "55IPvSm7C8Nv"
      }
    },
    {
      "cell_type": "code",
      "source": [
        "import numpy as np\n",
        "x = np.ones((10, 10, 3))\n",
        "x_reshaped = np.reshape(x, (-1 ,150))\n",
        "print(x_reshaped)"
      ],
      "metadata": {
        "colab": {
          "base_uri": "https://localhost:8080/"
        },
        "id": "mNoQOgoOOIoy",
        "outputId": "4331f3fc-6aa1-4dc5-8c6a-f1ee396109dd"
      },
      "execution_count": null,
      "outputs": [
        {
          "output_type": "stream",
          "name": "stdout",
          "text": [
            "[[1. 1. 1. 1. 1. 1. 1. 1. 1. 1. 1. 1. 1. 1. 1. 1. 1. 1. 1. 1. 1. 1. 1. 1.\n",
            "  1. 1. 1. 1. 1. 1. 1. 1. 1. 1. 1. 1. 1. 1. 1. 1. 1. 1. 1. 1. 1. 1. 1. 1.\n",
            "  1. 1. 1. 1. 1. 1. 1. 1. 1. 1. 1. 1. 1. 1. 1. 1. 1. 1. 1. 1. 1. 1. 1. 1.\n",
            "  1. 1. 1. 1. 1. 1. 1. 1. 1. 1. 1. 1. 1. 1. 1. 1. 1. 1. 1. 1. 1. 1. 1. 1.\n",
            "  1. 1. 1. 1. 1. 1. 1. 1. 1. 1. 1. 1. 1. 1. 1. 1. 1. 1. 1. 1. 1. 1. 1. 1.\n",
            "  1. 1. 1. 1. 1. 1. 1. 1. 1. 1. 1. 1. 1. 1. 1. 1. 1. 1. 1. 1. 1. 1. 1. 1.\n",
            "  1. 1. 1. 1. 1. 1.]\n",
            " [1. 1. 1. 1. 1. 1. 1. 1. 1. 1. 1. 1. 1. 1. 1. 1. 1. 1. 1. 1. 1. 1. 1. 1.\n",
            "  1. 1. 1. 1. 1. 1. 1. 1. 1. 1. 1. 1. 1. 1. 1. 1. 1. 1. 1. 1. 1. 1. 1. 1.\n",
            "  1. 1. 1. 1. 1. 1. 1. 1. 1. 1. 1. 1. 1. 1. 1. 1. 1. 1. 1. 1. 1. 1. 1. 1.\n",
            "  1. 1. 1. 1. 1. 1. 1. 1. 1. 1. 1. 1. 1. 1. 1. 1. 1. 1. 1. 1. 1. 1. 1. 1.\n",
            "  1. 1. 1. 1. 1. 1. 1. 1. 1. 1. 1. 1. 1. 1. 1. 1. 1. 1. 1. 1. 1. 1. 1. 1.\n",
            "  1. 1. 1. 1. 1. 1. 1. 1. 1. 1. 1. 1. 1. 1. 1. 1. 1. 1. 1. 1. 1. 1. 1. 1.\n",
            "  1. 1. 1. 1. 1. 1.]]\n"
          ]
        }
      ]
    },
    {
      "cell_type": "markdown",
      "source": [
        "8.Niech x będzie tablicą [[1, 2, 3], [4, 5, 6]]. Przekształć ją na [1 4 2 5 3 6]"
      ],
      "metadata": {
        "id": "ow4Lj4vcPnZk"
      }
    },
    {
      "cell_type": "code",
      "source": [
        "import numpy as np\n",
        "array = np.array([[1,2,3], [4,5,6]])\n",
        "changed_array = np.ravel(array, order='F')\n",
        "print(changed_array)"
      ],
      "metadata": {
        "colab": {
          "base_uri": "https://localhost:8080/"
        },
        "id": "QzyCaUXnPqp4",
        "outputId": "62325520-6d93-4bbc-fa25-0c16e4ecce12"
      },
      "execution_count": null,
      "outputs": [
        {
          "output_type": "stream",
          "name": "stdout",
          "text": [
            "[1 4 2 5 3 6]\n"
          ]
        }
      ]
    },
    {
      "cell_type": "markdown",
      "source": [
        "9.Niech X = np.arange(1, 5).reshape((2, 2)) i oblicz wyznacznik X"
      ],
      "metadata": {
        "id": "9DFKl3GFQ-Lr"
      }
    },
    {
      "cell_type": "code",
      "source": [
        "import numpy as np\n",
        "x = np.arange(1, 5).reshape((2, 2))\n",
        "print(x)\n",
        "det_X = np.linalg.det(x)\n",
        "print(det_X)"
      ],
      "metadata": {
        "colab": {
          "base_uri": "https://localhost:8080/"
        },
        "id": "Di0uvdbaREBB",
        "outputId": "07b76f4a-2b64-42ee-ec2b-7d1f17904d12"
      },
      "execution_count": null,
      "outputs": [
        {
          "output_type": "stream",
          "name": "stdout",
          "text": [
            "[[1 2]\n",
            " [3 4]]\n",
            "-2.0000000000000004\n"
          ]
        }
      ]
    },
    {
      "cell_type": "markdown",
      "source": [
        "10.Zwraca sumę wzdłuż przekątnej A = np.linspace(2, 16, 16).reshape(4, 4)"
      ],
      "metadata": {
        "id": "YbZ-mf0jRmUj"
      }
    },
    {
      "cell_type": "code",
      "source": [
        "A = np.linspace(2, 16, 16).reshape(4, 4)\n",
        "sum_diag_A = np.trace(A)\n",
        "print(sum_diag_A)"
      ],
      "metadata": {
        "colab": {
          "base_uri": "https://localhost:8080/"
        },
        "id": "xrtVlvSbRq-6",
        "outputId": "c4101a4c-b2d9-480a-8f5b-b8dcf09b3758"
      },
      "execution_count": null,
      "outputs": [
        {
          "output_type": "stream",
          "name": "stdout",
          "text": [
            "36.0\n"
          ]
        }
      ]
    },
    {
      "cell_type": "markdown",
      "source": [
        "11.Znajdź odwrotność np.array([[1., 2.], [3., 4.]])"
      ],
      "metadata": {
        "id": "rQ3bOpPrSM1O"
      }
    },
    {
      "cell_type": "code",
      "source": [
        "import numpy as np\n",
        "matrix = np.array([[1.,2.], [3.,4.]])\n",
        "inverse_matrix = np.linalg.inv(matrix)\n",
        "print(inverse_matrix)"
      ],
      "metadata": {
        "colab": {
          "base_uri": "https://localhost:8080/"
        },
        "id": "oD_6WDynSVvF",
        "outputId": "ed3b2b2f-f644-4249-db93-1d66ae743c4b"
      },
      "execution_count": null,
      "outputs": [
        {
          "output_type": "stream",
          "name": "stdout",
          "text": [
            "[[-2.   1. ]\n",
            " [ 1.5 -0.5]]\n"
          ]
        }
      ]
    },
    {
      "cell_type": "markdown",
      "source": [
        "12.Dla następujących wektorów,\n",
        "\n",
        "x = np.array([4, 5, 6, 13])\n",
        "y = np.array([5, 0, 6, 11])\n",
        "sprawdź, które elementy x są większe od elementów y."
      ],
      "metadata": {
        "id": "iXXAxLjiUYiU"
      }
    },
    {
      "cell_type": "code",
      "source": [
        "import numpy as np\n",
        "x = np.array([4, 5, 6, 13])\n",
        "y = np.array([5, 0, 6, 11])\n",
        "greater_elements = x > y\n",
        "print(greater_elements)"
      ],
      "metadata": {
        "colab": {
          "base_uri": "https://localhost:8080/"
        },
        "id": "TYVOejHBUbr9",
        "outputId": "e998c1d2-308f-44fa-ebb4-8b40a3b14823"
      },
      "execution_count": null,
      "outputs": [
        {
          "output_type": "stream",
          "name": "stdout",
          "text": [
            "[False  True False  True]\n"
          ]
        }
      ]
    }
  ]
}